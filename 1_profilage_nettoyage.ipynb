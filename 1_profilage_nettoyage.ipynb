{
 "cells": [
  {
   "cell_type": "markdown",
   "metadata": {},
   "source": [
    "# **Étape 1 : Comprendre le problème**\n",
    "\n",
    "***1.1 Quel est l'objectif de la présente solution ML?***  \n",
    "\n",
    "En étudiant le document explicatif, nous comprenons que notre intention est d'aider les créateurs de projets Kickstarter à formuler les facteurs qui augmentent le taux de réussite de leurs campagnes sur la plateforme. Ces insights permettront aux créateurs d'adapter leurs campagnes futures afin de favoriser les chances de succès. \n",
    "\n",
    "***1.2 Y a-t-il une solution de prédiction actuellement utilisée?***  \n",
    "\n",
    "Non. Étant donné que le présent mandat est fictif, nous considérons qu'aucune solution prédictive n'est déployée en ce moment. Il est tout de même important de se poser cette question puisqu'en contexte de mandat réel, elle nous fournit un point de référence en matière de performance et des pistes à explorer pour le développement d'une nouvelle solution ML. \n",
    "\n",
    "***1.3 Comment les résultats (output) du présent modèle seront-ils utilisés?***\n",
    "\n",
    "Avant de se lancer dans la conception du modèle, il est important de comprendre comment les insights tirés à partir des données prédites seront utilisées par les créateurs de campagnes. Pour y parvenir, nous devons nous poser la question suivante: \n",
    "\n",
    "- Comment les insights extraits à partir du modèle vont être utilisés par les créateurs de campagnes?"
   ]
  },
  {
   "cell_type": "markdown",
   "metadata": {},
   "source": [
    "# **Étape 2 : Concevoir un design préalable**\n",
    "\n",
    "***2.1 S'agit-il d'une solution d'apprentissage machine supervisée, non-supervisée ou d'apprentissage par renforcement?***\n",
    "\n",
    "Comme nous souhaitons prédire l'état (succès, échec, cancelé etc.) d'une campagne Kickstarter, et que le jeu de données comprend la variable *state*, cela indique que nous optons pour une approche d'apprentissage machine supervisée.\n",
    "\n",
    "***2.2 De quel type de tâche d'apprentissage machine s'agit-il? (Régression, Classification, Clustering etc.)***\n",
    "\n",
    "Notre variable indépendante *state* est une variable qualitative nominale, il s'agit donc d'une tâche de classification. \n",
    "\n",
    "***2.3 Devons-nous implanter une solution de type batch (offline) learning ou online learning?***\n",
    "\n",
    "Étant donné que nous disposons de données historiques, de ressources computationnelles adéquates, et que notre objectif est de simplement identifier les facteurs qui améliorent les chances de succès des campagnes Kickstarter, il est justifié d'opter pour une approche hors ligne."
   ]
  },
  {
   "cell_type": "markdown",
   "metadata": {},
   "source": [
    "# **Étape 3 : Collecter les données**\n",
    "\n",
    "Pour ce mandat, nous avons été doté d'un fichier CSV, nommé *ks_datasets.csv*, placé dans le répértoire *Datasets* du présent projet. "
   ]
  },
  {
   "cell_type": "code",
   "execution_count": 61,
   "metadata": {},
   "outputs": [],
   "source": [
    "# Importation des bibliothèques os (pour les opérations sur le système de fichiers) et pandas (pour la manipulation de données)\n",
    "import os\n",
    "import pandas as pd\n",
    "import numpy as np\n",
    "\n",
    "# Définition d'une fonction nommée 'get_file_path' qui prend deux paramètres : 'subdirectory' (sous-répertoire) et 'filename' (nom du fichier)\n",
    "def get_file_path(subdirectory, filename):\n",
    "    # La fonction combine le répertoire de travail actuel ('os.getcwd()'), le sous-répertoire et le nom de fichier pour former un chemin complet.\n",
    "    file_path = os.path.join(os.getcwd(), subdirectory, filename)\n",
    "    # La fonction retourne le chemin complet résultant.\n",
    "    return file_path\n",
    "\n",
    "# Appel de la fonction 'get_file_path' avec les arguments \"Datasets\" (sous-répertoire) et \"ks_dataset.csv\" (nom de fichier)\n",
    "file_path = get_file_path(\"Datasets\", \"ks_dataset.csv\")\n",
    "\n",
    "# Utilisation de pandas pour lire un fichier CSV ('file_path') avec un encodage spécifique ('encoding') et en utilisant seulement les premières 13 colonnes ('usecols').\n",
    "df = pd.read_csv(file_path, \n",
    "                        encoding='iso-8859-2',\n",
    "                        dtype={13:'object',14:'object',15:'object',16:'object'})"
   ]
  },
  {
   "cell_type": "markdown",
   "metadata": {},
   "source": [
    "# **Étape 4 : Jeter un coup d'oeil à la structure des données et normaliser les données**\n",
    "\n",
    "À ce stade, les données brutes ont été collectées, mais il est essentiel de comprendre leur nature et leur organisation avant de plonger dans l'analyse proprement dite. À ce étape, nous faisons nos opérations de normalisation de données."
   ]
  },
  {
   "cell_type": "markdown",
   "metadata": {},
   "source": [
    "#### **Étape 4.1 : Profilage préalable des métadonnées du jeu de données**"
   ]
  },
  {
   "cell_type": "code",
   "execution_count": 62,
   "metadata": {},
   "outputs": [
    {
     "data": {
      "text/html": [
       "<div>\n",
       "<style scoped>\n",
       "    .dataframe tbody tr th:only-of-type {\n",
       "        vertical-align: middle;\n",
       "    }\n",
       "\n",
       "    .dataframe tbody tr th {\n",
       "        vertical-align: top;\n",
       "    }\n",
       "\n",
       "    .dataframe thead th {\n",
       "        text-align: right;\n",
       "    }\n",
       "</style>\n",
       "<table border=\"1\" class=\"dataframe\">\n",
       "  <thead>\n",
       "    <tr style=\"text-align: right;\">\n",
       "      <th></th>\n",
       "      <th>ID</th>\n",
       "      <th>name</th>\n",
       "      <th>category</th>\n",
       "      <th>main_category</th>\n",
       "      <th>currency</th>\n",
       "      <th>deadline</th>\n",
       "      <th>goal</th>\n",
       "      <th>launched</th>\n",
       "      <th>pledged</th>\n",
       "      <th>state</th>\n",
       "      <th>backers</th>\n",
       "      <th>country</th>\n",
       "      <th>usd pledged</th>\n",
       "      <th>Unnamed: 13</th>\n",
       "      <th>Unnamed: 14</th>\n",
       "      <th>Unnamed: 15</th>\n",
       "      <th>Unnamed: 16</th>\n",
       "    </tr>\n",
       "  </thead>\n",
       "  <tbody>\n",
       "    <tr>\n",
       "      <th>0</th>\n",
       "      <td>1000002330</td>\n",
       "      <td>The Songs of Adelaide &amp; Abullah</td>\n",
       "      <td>Poetry</td>\n",
       "      <td>Publishing</td>\n",
       "      <td>GBP</td>\n",
       "      <td>2015-10-09 11:36:00</td>\n",
       "      <td>1000</td>\n",
       "      <td>2015-08-11 12:12:28</td>\n",
       "      <td>0</td>\n",
       "      <td>failed</td>\n",
       "      <td>0</td>\n",
       "      <td>GB</td>\n",
       "      <td>0</td>\n",
       "      <td>NaN</td>\n",
       "      <td>NaN</td>\n",
       "      <td>NaN</td>\n",
       "      <td>NaN</td>\n",
       "    </tr>\n",
       "    <tr>\n",
       "      <th>1</th>\n",
       "      <td>1000004038</td>\n",
       "      <td>Where is Hank?</td>\n",
       "      <td>Narrative Film</td>\n",
       "      <td>Film &amp; Video</td>\n",
       "      <td>USD</td>\n",
       "      <td>2013-02-26 00:20:50</td>\n",
       "      <td>45000</td>\n",
       "      <td>2013-01-12 00:20:50</td>\n",
       "      <td>220</td>\n",
       "      <td>failed</td>\n",
       "      <td>3</td>\n",
       "      <td>US</td>\n",
       "      <td>220</td>\n",
       "      <td>NaN</td>\n",
       "      <td>NaN</td>\n",
       "      <td>NaN</td>\n",
       "      <td>NaN</td>\n",
       "    </tr>\n",
       "    <tr>\n",
       "      <th>2</th>\n",
       "      <td>1000007540</td>\n",
       "      <td>ToshiCapital Rekordz Needs Help to Complete Album</td>\n",
       "      <td>Music</td>\n",
       "      <td>Music</td>\n",
       "      <td>USD</td>\n",
       "      <td>2012-04-16 04:24:11</td>\n",
       "      <td>5000</td>\n",
       "      <td>2012-03-17 03:24:11</td>\n",
       "      <td>1</td>\n",
       "      <td>failed</td>\n",
       "      <td>1</td>\n",
       "      <td>US</td>\n",
       "      <td>1</td>\n",
       "      <td>NaN</td>\n",
       "      <td>NaN</td>\n",
       "      <td>NaN</td>\n",
       "      <td>NaN</td>\n",
       "    </tr>\n",
       "    <tr>\n",
       "      <th>3</th>\n",
       "      <td>1000011046</td>\n",
       "      <td>Community Film Project: The Art of Neighborhoo...</td>\n",
       "      <td>Film &amp; Video</td>\n",
       "      <td>Film &amp; Video</td>\n",
       "      <td>USD</td>\n",
       "      <td>2015-08-29 01:00:00</td>\n",
       "      <td>19500</td>\n",
       "      <td>2015-07-04 08:35:03</td>\n",
       "      <td>1283</td>\n",
       "      <td>canceled</td>\n",
       "      <td>14</td>\n",
       "      <td>US</td>\n",
       "      <td>1283</td>\n",
       "      <td>NaN</td>\n",
       "      <td>NaN</td>\n",
       "      <td>NaN</td>\n",
       "      <td>NaN</td>\n",
       "    </tr>\n",
       "    <tr>\n",
       "      <th>4</th>\n",
       "      <td>1000014025</td>\n",
       "      <td>Monarch Espresso Bar</td>\n",
       "      <td>Restaurants</td>\n",
       "      <td>Food</td>\n",
       "      <td>USD</td>\n",
       "      <td>2016-04-01 13:38:27</td>\n",
       "      <td>50000</td>\n",
       "      <td>2016-02-26 13:38:27</td>\n",
       "      <td>52375</td>\n",
       "      <td>successful</td>\n",
       "      <td>224</td>\n",
       "      <td>US</td>\n",
       "      <td>52375</td>\n",
       "      <td>NaN</td>\n",
       "      <td>NaN</td>\n",
       "      <td>NaN</td>\n",
       "      <td>NaN</td>\n",
       "    </tr>\n",
       "  </tbody>\n",
       "</table>\n",
       "</div>"
      ],
      "text/plain": [
       "          ID                                               name   \\\n",
       "0  1000002330                    The Songs of Adelaide & Abullah   \n",
       "1  1000004038                                     Where is Hank?   \n",
       "2  1000007540  ToshiCapital Rekordz Needs Help to Complete Album   \n",
       "3  1000011046  Community Film Project: The Art of Neighborhoo...   \n",
       "4  1000014025                               Monarch Espresso Bar   \n",
       "\n",
       "        category  main_category  currency             deadline   goal   \\\n",
       "0          Poetry     Publishing       GBP  2015-10-09 11:36:00   1000   \n",
       "1  Narrative Film   Film & Video       USD  2013-02-26 00:20:50  45000   \n",
       "2           Music          Music       USD  2012-04-16 04:24:11   5000   \n",
       "3    Film & Video   Film & Video       USD  2015-08-29 01:00:00  19500   \n",
       "4     Restaurants           Food       USD  2016-04-01 13:38:27  50000   \n",
       "\n",
       "             launched  pledged       state  backers  country  usd pledged   \\\n",
       "0  2015-08-11 12:12:28        0      failed        0       GB            0   \n",
       "1  2013-01-12 00:20:50      220      failed        3       US          220   \n",
       "2  2012-03-17 03:24:11        1      failed        1       US            1   \n",
       "3  2015-07-04 08:35:03     1283    canceled       14       US         1283   \n",
       "4  2016-02-26 13:38:27    52375  successful      224       US        52375   \n",
       "\n",
       "  Unnamed: 13 Unnamed: 14 Unnamed: 15 Unnamed: 16  \n",
       "0         NaN         NaN         NaN         NaN  \n",
       "1         NaN         NaN         NaN         NaN  \n",
       "2         NaN         NaN         NaN         NaN  \n",
       "3         NaN         NaN         NaN         NaN  \n",
       "4         NaN         NaN         NaN         NaN  "
      ]
     },
     "execution_count": 62,
     "metadata": {},
     "output_type": "execute_result"
    }
   ],
   "source": [
    "# Affiche les cinq premières lignes du DataFrame 'df'\n",
    "df.head(5)"
   ]
  },
  {
   "cell_type": "code",
   "execution_count": 63,
   "metadata": {},
   "outputs": [
    {
     "name": "stdout",
     "output_type": "stream",
     "text": [
      "<class 'pandas.core.frame.DataFrame'>\n",
      "RangeIndex: 323750 entries, 0 to 323749\n",
      "Data columns (total 17 columns):\n",
      " #   Column          Non-Null Count   Dtype \n",
      "---  ------          --------------   ----- \n",
      " 0   ID              323750 non-null  int64 \n",
      " 1   name            323746 non-null  object\n",
      " 2   category        323745 non-null  object\n",
      " 3   main_category   323750 non-null  object\n",
      " 4   currency        323750 non-null  object\n",
      " 5   deadline        323750 non-null  object\n",
      " 6   goal            323750 non-null  object\n",
      " 7   launched        323750 non-null  object\n",
      " 8   pledged         323750 non-null  object\n",
      " 9   state           323750 non-null  object\n",
      " 10  backers         323750 non-null  object\n",
      " 11  country         323750 non-null  object\n",
      " 12  usd pledged     319960 non-null  object\n",
      " 13  Unnamed: 13     625 non-null     object\n",
      " 14  Unnamed: 14     12 non-null      object\n",
      " 15  Unnamed: 15     4 non-null       object\n",
      " 16  Unnamed: 16     1 non-null       object\n",
      "dtypes: int64(1), object(16)\n",
      "memory usage: 42.0+ MB\n"
     ]
    }
   ],
   "source": [
    "'''\n",
    "NOTE : On dénote que plusieurs colonnes ne sont pas dans le format approprié et contiennent des valeurs manquantes (nulls).\n",
    "Après analyse du jeu de données, nous comprenons que les valeurs non-manquantes des colonnes 13 à 16 sont des observations dont les \n",
    "colonnes sont décalées. \n",
    "'''\n",
    "\n",
    "# Affiche des informations sur la structure et le contenu du DataFrame 'df'\n",
    "df.info()"
   ]
  },
  {
   "cell_type": "code",
   "execution_count": 64,
   "metadata": {},
   "outputs": [],
   "source": [
    "# Crée un nouveau DataFrame vide nommé 'df_clean', qui servira à l'entreposage de données propres.\n",
    "df_clean = pd.DataFrame()"
   ]
  },
  {
   "cell_type": "markdown",
   "metadata": {},
   "source": [
    "#### **Étape 4.2 : Profilage et normalisation de la variable ID**"
   ]
  },
  {
   "cell_type": "code",
   "execution_count": 65,
   "metadata": {},
   "outputs": [
    {
     "name": "stdout",
     "output_type": "stream",
     "text": [
      "Colonne ID a des valeurs manquantes : False\n",
      "Colonne ID a seulement des valeurs de type <class 'int'> : True\n",
      "Colonne ID a des valeurs uniques : True\n"
     ]
    }
   ],
   "source": [
    "# Fonction pour valider les métadonnées de bases (valeurs manquantes, types de données, valeurs uniques)\n",
    "def data_profiling(df,column, datatype):\n",
    "    # Vérifie la présence de valeurs manquantes\n",
    "    x = df[column].isna().any()\n",
    "    print(f'Colonne {column}a des valeurs manquantes : {x}')\n",
    "    # Vérifie la présence de valeurs de type non-conforme\n",
    "    y = df[column ].apply(lambda x: isinstance(x, datatype)).all()\n",
    "    print(f'Colonne {column}a seulement des valeurs de type {datatype} : {y}')\n",
    "    # Vérifie la présence de doublons\n",
    "    z = df[column].is_unique\n",
    "    print(f'Colonne {column}a des valeurs uniques : {z}')\n",
    "\n",
    "# Profile les données dans la colonne ID\n",
    "data_profiling(df, 'ID ', int)"
   ]
  },
  {
   "cell_type": "code",
   "execution_count": 66,
   "metadata": {},
   "outputs": [
    {
     "data": {
      "text/html": [
       "<div>\n",
       "<style scoped>\n",
       "    .dataframe tbody tr th:only-of-type {\n",
       "        vertical-align: middle;\n",
       "    }\n",
       "\n",
       "    .dataframe tbody tr th {\n",
       "        vertical-align: top;\n",
       "    }\n",
       "\n",
       "    .dataframe thead th {\n",
       "        text-align: right;\n",
       "    }\n",
       "</style>\n",
       "<table border=\"1\" class=\"dataframe\">\n",
       "  <thead>\n",
       "    <tr style=\"text-align: right;\">\n",
       "      <th></th>\n",
       "      <th>ID</th>\n",
       "    </tr>\n",
       "  </thead>\n",
       "  <tbody>\n",
       "    <tr>\n",
       "      <th>0</th>\n",
       "      <td>1000002330</td>\n",
       "    </tr>\n",
       "  </tbody>\n",
       "</table>\n",
       "</div>"
      ],
      "text/plain": [
       "           ID\n",
       "0  1000002330"
      ]
     },
     "execution_count": 66,
     "metadata": {},
     "output_type": "execute_result"
    }
   ],
   "source": [
    "'''\n",
    "NOTE : Comme les identifiants (ID) semblent répondre aux exigences d'une variable ID, nous pouvons l'entreposer dans le df_clean.\n",
    "'''\n",
    "\n",
    "df_clean['ID'] = df['ID ']\n",
    "df_clean.head(1)"
   ]
  },
  {
   "cell_type": "markdown",
   "metadata": {},
   "source": [
    "#### **Étape 4.3 : Profilage et normalisation de la variable Name (variable qualitative nominale)**"
   ]
  },
  {
   "cell_type": "code",
   "execution_count": 67,
   "metadata": {},
   "outputs": [
    {
     "name": "stdout",
     "output_type": "stream",
     "text": [
      "Colonne name a des valeurs manquantes : True\n",
      "Colonne name a seulement des valeurs de type <class 'str'> : False\n",
      "Colonne name a des valeurs uniques : False\n"
     ]
    }
   ],
   "source": [
    "# Profile les données dans la colonne name.\n",
    "data_profiling(df, 'name ', str)"
   ]
  },
  {
   "cell_type": "code",
   "execution_count": 68,
   "metadata": {},
   "outputs": [
    {
     "name": "stdout",
     "output_type": "stream",
     "text": [
      "Nombre de doublons de noms : 3752\n",
      "Nombre de doublons de noms et dates de lancement : 2\n"
     ]
    },
    {
     "data": {
      "text/plain": [
       "\"\\nNOTE : Les deux doublons de noms et de dates de lancement sont dû au décalage de données. \\nPuisqu'aucun doublons de noms/dates de lancement n'est présent, nous assumons qu'il ne s'agit pas de \\ndoublons approprement dit, mais plutôt de projets qui sont lancés plusieurs fois sur la plateformes. \\n\""
      ]
     },
     "execution_count": 68,
     "metadata": {},
     "output_type": "execute_result"
    }
   ],
   "source": [
    "# Vérifie quels sont les doublons. 3752 doublons de noms. 2 doublons de noms et de dates de lancement. \n",
    "duplicates_names = df[df.duplicated(subset=['name '], keep=False)]\n",
    "print(f'Nombre de doublons de noms : {len(duplicates_names)}')\n",
    "duplicates_names_launched = df[df.duplicated(subset=['name ','launched '], keep=False)]\n",
    "print(f'Nombre de doublons de noms et dates de lancement : {len(duplicates_names_launched)}')\n",
    "\n",
    "'''\n",
    "NOTE : Les deux doublons de noms et de dates de lancement sont dû au décalage de données. \n",
    "Puisqu'aucun doublons de noms/dates de lancement n'est présent, nous assumons qu'il ne s'agit pas de \n",
    "doublons approprement dit, mais plutôt de projets qui sont lancés plusieurs fois sur la plateformes. \n",
    "'''"
   ]
  },
  {
   "cell_type": "code",
   "execution_count": 69,
   "metadata": {},
   "outputs": [
    {
     "name": "stdout",
     "output_type": "stream",
     "text": [
      "Nombre d'observations avec des valeurs manquantes : 1\n"
     ]
    },
    {
     "data": {
      "text/plain": [
       "\"\\nNOTE : Les noms de projets nécessitent du nettoyage, alors qu'ils contiennent des caractères spéciaux, une ponctuation inadéquate, \\ndes espaces inutiles et des mots redondants, tels que 'canceled', 'suspended', 'campaign' etc. Pour ce faire, dans le prochain extrait\\nde code, nous vérifions les mots les plus fréquents et validons leur pertinence, avant de les retirer au besoin.\\n\""
      ]
     },
     "execution_count": 69,
     "metadata": {},
     "output_type": "execute_result"
    }
   ],
   "source": [
    "# Met le texte en minuscule, afin de faciliter le traitement\n",
    "df_clean['Name'] = df['name '].str.lower()\n",
    "\n",
    "# Fonction pour le nettoyage de données qualitative nominale.\n",
    "def string_cleaning(df,column,str_to_delete,bool):\n",
    "    # Transforme la colonne en string.\n",
    "    df[column] = df[column].astype(str)\n",
    "    if bool == 1:\n",
    "        # Élimine les caractères spéciaux et la ponctuation\n",
    "        df[column] = df[column].replace([r'[^ a-z0-9]+'], '', regex=True)\n",
    "        # Élimine les espaces supplémentaires au début, à la fin et entre les mots du nom.\n",
    "        df[column] = df[column].str.strip().replace(r'\\s+', ' ', regex=True)\n",
    "        # Élimine les espaces supplémentaires au début, à la fin et entre les mots du nom.\n",
    "        if str_to_delete != None:\n",
    "            df[column] = df[column].replace(str_to_delete, '', regex=True)\n",
    "    # Compte le nombre d'observations avec des valeurs manquantes.\n",
    "    missing_count = len(df[df[column].isin(['',' '])])\n",
    "    print(f\"Nombre d'observations avec des valeurs manquantes : {missing_count}\")\n",
    "\n",
    "string_cleaning(df_clean,'Name',None,1)\n",
    "\n",
    "'''\n",
    "NOTE : Les noms de projets nécessitent du nettoyage, alors qu'ils contiennent des caractères spéciaux, une ponctuation inadéquate, \n",
    "des espaces inutiles et des mots redondants, tels que 'canceled', 'suspended', 'campaign' etc. Pour ce faire, dans le prochain extrait\n",
    "de code, nous vérifions les mots les plus fréquents et validons leur pertinence, avant de les retirer au besoin.\n",
    "'''"
   ]
  },
  {
   "cell_type": "code",
   "execution_count": 70,
   "metadata": {},
   "outputs": [
    {
     "data": {
      "text/plain": [
       "{'the': 91447,\n",
       " 'a': 44644,\n",
       " 'of': 32710,\n",
       " 'canceled': 23110,\n",
       " 'and': 21783,\n",
       " 'for': 20350,\n",
       " 'to': 18360,\n",
       " 'in': 15525,\n",
       " 'album': 12624,\n",
       " 'new': 12297,\n",
       " 'project': 10608,\n",
       " 'film': 10435,\n",
       " 'by': 8419,\n",
       " 'book': 8156,\n",
       " 'your': 7741,\n",
       " 'game': 7376,\n",
       " 'with': 7223,\n",
       " 'art': 6883,\n",
       " 'music': 6688,\n",
       " 'on': 6553,\n",
       " 'an': 6383,\n",
       " 'help': 5866,\n",
       " 'my': 5774,\n",
       " 'first': 5635,\n",
       " 'you': 4975,\n",
       " 'from': 4885,\n",
       " 'short': 4733,\n",
       " 'debut': 4499,\n",
       " 'ep': 4371,\n",
       " 'life': 4207,\n",
       " 'is': 4156,\n",
       " 'documentary': 3875,\n",
       " 'world': 3854,\n",
       " 'series': 3799,\n",
       " 'video': 3611,\n",
       " 'at': 3453,\n",
       " 'love': 3453,\n",
       " 'i': 3368,\n",
       " 'one': 3255,\n",
       " 'tour': 3137,\n",
       " '1': 2957,\n",
       " 'story': 2926,\n",
       " 'novel': 2900,\n",
       " '2': 2892,\n",
       " 'me': 2785,\n",
       " 'cd': 2759,\n",
       " 'our': 2601,\n",
       " 'all': 2583,\n",
       " 'it': 2566,\n",
       " 'make': 2554,\n",
       " 'show': 2549,\n",
       " 'app': 2545,\n",
       " 'record': 2499,\n",
       " 'about': 2411,\n",
       " 'food': 2361,\n",
       " 'be': 2245,\n",
       " 'studio': 2213,\n",
       " 'that': 2199,\n",
       " 'get': 2177,\n",
       " 'cards': 2174,\n",
       " 'festival': 2161,\n",
       " 'time': 2153,\n",
       " 'up': 2131,\n",
       " 'feature': 2092,\n",
       " 'card': 2092,\n",
       " 'movie': 2077,\n",
       " 'us': 1868,\n",
       " 'home': 1850,\n",
       " 'made': 1832,\n",
       " 'worlds': 1823,\n",
       " 'magazine': 1815,\n",
       " 'we': 1803,\n",
       " 'collection': 1783,\n",
       " 'kids': 1749,\n",
       " 'city': 1736,\n",
       " 'live': 1736,\n",
       " 'free': 1719,\n",
       " 'clothing': 1709,\n",
       " 'man': 1698,\n",
       " 'fund': 1681,\n",
       " 'release': 1661,\n",
       " 'dance': 1654,\n",
       " 'recording': 1646,\n",
       " 'american': 1614,\n",
       " 'dream': 1594,\n",
       " 'adventure': 1576,\n",
       " 'no': 1550,\n",
       " 'mobile': 1549,\n",
       " 'playing': 1548,\n",
       " 'journey': 1537,\n",
       " 'making': 1521,\n",
       " '3d': 1519,\n",
       " 'more': 1502,\n",
       " 'day': 1481,\n",
       " 'comic': 1473,\n",
       " 'light': 1469,\n",
       " 'company': 1462,\n",
       " 'little': 1444,\n",
       " 'full': 1443,\n",
       " 'this': 1439,\n",
       " 'out': 1430,\n",
       " 'big': 1421,\n",
       " 'design': 1409,\n",
       " 'childrens': 1409,\n",
       " 'photography': 1404,\n",
       " 'play': 1398,\n",
       " 'black': 1391,\n",
       " 'fashion': 1387,\n",
       " 'space': 1386,\n",
       " 'presents': 1377,\n",
       " 'back': 1373,\n",
       " 'edition': 1373,\n",
       " 'musical': 1351,\n",
       " 'way': 1324,\n",
       " 'coffee': 1322,\n",
       " 'best': 1312,\n",
       " 'community': 1309,\n",
       " 'are': 1309,\n",
       " 'house': 1283,\n",
       " '2015': 1274,\n",
       " 'season': 1272,\n",
       " 'into': 1265,\n",
       " 'comedy': 1256,\n",
       " 'people': 1251,\n",
       " 'through': 1236,\n",
       " 'not': 1235,\n",
       " 'fantasy': 1234,\n",
       " 'iphone': 1231,\n",
       " 'road': 1222,\n",
       " 'bring': 1218,\n",
       " 'board': 1212,\n",
       " 'go': 1203,\n",
       " 'system': 1200,\n",
       " 'rpg': 1196,\n",
       " 'horror': 1190,\n",
       " 'apparel': 1190,\n",
       " 'support': 1173,\n",
       " 'launch': 1169,\n",
       " 'web': 1168,\n",
       " '3': 1167,\n",
       " 'suspended': 1153,\n",
       " 'graphic': 1152,\n",
       " 'or': 1147,\n",
       " '2014': 1144,\n",
       " 'real': 1142,\n",
       " 'rock': 1137,\n",
       " 'next': 1135,\n",
       " 'vinyl': 1132,\n",
       " 'production': 1126,\n",
       " 'custom': 1122,\n",
       " 'stories': 1120,\n",
       " 'smart': 1118,\n",
       " 'its': 1113,\n",
       " 'lets': 1109,\n",
       " 'original': 1107,\n",
       " 'what': 1106,\n",
       " 'length': 1094,\n",
       " 'last': 1094,\n",
       " 'two': 1092,\n",
       " 'band': 1091,\n",
       " 'family': 1090,\n",
       " 'how': 1089,\n",
       " 'great': 1088,\n",
       " 'good': 1085,\n",
       " 'part': 1079,\n",
       " 'online': 1076,\n",
       " '2013': 1075,\n",
       " 'can': 1075,\n",
       " 'war': 1073,\n",
       " 'needs': 1070,\n",
       " 'dark': 1063,\n",
       " '2012': 1062,\n",
       " 'school': 1059,\n",
       " 'america': 1057,\n",
       " 'theatre': 1055,\n",
       " 'box': 1039,\n",
       " 'artist': 1039,\n",
       " 'la': 1033,\n",
       " 'high': 1022,\n",
       " 'truck': 1017,\n",
       " 'ultimate': 1016,\n",
       " 'co': 1011,\n",
       " 'summer': 1010,\n",
       " '2016': 1007,\n",
       " 'social': 1006,\n",
       " 'night': 1002,\n",
       " 'photo': 1001,\n",
       " 'their': 999,\n",
       " 'games': 990,\n",
       " 'guide': 989,\n",
       " 'heart': 985,\n",
       " 'party': 962,\n",
       " 'adventures': 958,\n",
       " 'fun': 956,\n",
       " 'future': 952,\n",
       " 'modern': 950,\n",
       " 'tv': 945,\n",
       " 'dead': 930,\n",
       " 'issue': 929,\n",
       " 'wallet': 928,\n",
       " 'case': 924,\n",
       " 'dog': 921,\n",
       " 'de': 912,\n",
       " 'watch': 912,\n",
       " '4': 911,\n",
       " 'gaming': 910,\n",
       " 'zombie': 905,\n",
       " 'history': 903,\n",
       " 'power': 900,\n",
       " 'experience': 899,\n",
       " 'red': 895,\n",
       " 'open': 889,\n",
       " 'digital': 887,\n",
       " 'will': 887,\n",
       " 'line': 886,\n",
       " 'calendar': 884,\n",
       " 'just': 879,\n",
       " 'print': 879,\n",
       " 'volume': 873,\n",
       " 'save': 873,\n",
       " 'travel': 872,\n",
       " 'street': 869,\n",
       " 'lost': 866,\n",
       " 'reality': 863,\n",
       " 'farm': 863,\n",
       " 'year': 859,\n",
       " 'old': 858,\n",
       " 'arts': 856,\n",
       " 'like': 854,\n",
       " 'christmas': 848,\n",
       " 'soul': 848,\n",
       " 'handmade': 844,\n",
       " 'women': 844,\n",
       " 'as': 836,\n",
       " 'water': 835,\n",
       " 'solo': 819,\n",
       " 'living': 818,\n",
       " 'true': 817,\n",
       " 'organic': 808,\n",
       " 'create': 806,\n",
       " 'build': 802,\n",
       " 'do': 798,\n",
       " 'songs': 796,\n",
       " 'days': 796,\n",
       " 'ever': 793,\n",
       " 'children': 787,\n",
       " 'young': 778,\n",
       " 'song': 777,\n",
       " 'girl': 776,\n",
       " 'better': 774,\n",
       " 'books': 774,\n",
       " 'hand': 770,\n",
       " 'radio': 769,\n",
       " 'most': 766,\n",
       " 'inspired': 764,\n",
       " 'unique': 763,\n",
       " 'second': 763,\n",
       " 'his': 761,\n",
       " 'dreams': 758,\n",
       " 'urban': 758,\n",
       " 'campaign': 756,\n",
       " 'building': 753,\n",
       " 'leather': 749,\n",
       " 'need': 747,\n",
       " 'jewelry': 747,\n",
       " 'business': 746,\n",
       " '100': 745,\n",
       " 'stand': 737,\n",
       " 'star': 736,\n",
       " 'records': 735,\n",
       " 'blue': 733,\n",
       " 'exhibition': 731,\n",
       " 'green': 729,\n",
       " 'action': 729,\n",
       " 'take': 728,\n",
       " 'shop': 727,\n",
       " 'dice': 727,\n",
       " 'who': 725,\n",
       " 'cafe': 721,\n",
       " 'style': 720,\n",
       " 'magic': 717,\n",
       " 'change': 716,\n",
       " 'beer': 712,\n",
       " 'death': 706,\n",
       " 'york': 705,\n",
       " 'pilot': 703,\n",
       " 'natural': 699,\n",
       " 'fire': 699,\n",
       " 'set': 697,\n",
       " 'creative': 696,\n",
       " 'beautiful': 696,\n",
       " 'brand': 693,\n",
       " 'own': 691,\n",
       " '1st': 690,\n",
       " 'super': 690,\n",
       " 'garden': 690,\n",
       " 'earth': 684,\n",
       " '5': 684,\n",
       " 'end': 683,\n",
       " 'bag': 682,\n",
       " 'artists': 680,\n",
       " 'phone': 677,\n",
       " 'kitchen': 675,\n",
       " 'never': 671,\n",
       " 'where': 667,\n",
       " 'her': 667,\n",
       " 'west': 666,\n",
       " 'tales': 664,\n",
       " 'hot': 661,\n",
       " 'animated': 660,\n",
       " 'now': 660,\n",
       " 'science': 660,\n",
       " 'local': 657,\n",
       " 'hope': 655,\n",
       " 'scifi': 655,\n",
       " 'car': 654,\n",
       " 'bike': 653,\n",
       " 'wood': 652,\n",
       " 'sound': 649,\n",
       " 'wild': 647,\n",
       " 'dont': 643,\n",
       " 'bar': 641,\n",
       " 'friends': 640,\n",
       " 'tshirt': 636,\n",
       " 'tshirts': 629,\n",
       " 'lp': 628,\n",
       " 'table': 628,\n",
       " 'baby': 627,\n",
       " '20': 625,\n",
       " 'camera': 622,\n",
       " 'girls': 620,\n",
       " 'gallery': 618,\n",
       " 'deck': 617,\n",
       " 'start': 616,\n",
       " 'nyc': 616,\n",
       " 'n': 615,\n",
       " 'poetry': 610,\n",
       " 'bicycle': 608,\n",
       " 'epic': 606,\n",
       " 'beyond': 606,\n",
       " 'ice': 606,\n",
       " 'usa': 605,\n",
       " 'want': 605,\n",
       " 'ipad': 605,\n",
       " 'kickstarter': 604,\n",
       " 'funding': 603,\n",
       " 'goes': 602,\n",
       " 'kit': 601,\n",
       " 'king': 601,\n",
       " 'small': 600,\n",
       " 'white': 599,\n",
       " 'revolution': 599,\n",
       " 'android': 598,\n",
       " 'indie': 597,\n",
       " 'club': 596,\n",
       " 'designs': 594,\n",
       " 'interactive': 592,\n",
       " 'youth': 591,\n",
       " 'come': 590,\n",
       " 'theater': 589,\n",
       " 'have': 589,\n",
       " 'ii': 585,\n",
       " 'other': 584,\n",
       " 'sweet': 583,\n",
       " 'performance': 581,\n",
       " 'media': 580,\n",
       " 'off': 580,\n",
       " 'run': 580,\n",
       " 'based': 580,\n",
       " 'perfect': 576,\n",
       " 'cat': 574,\n",
       " 'concert': 573,\n",
       " 'years': 572,\n",
       " 'brewing': 570,\n",
       " 'fall': 569,\n",
       " 'only': 566,\n",
       " 'send': 566,\n",
       " 'glass': 561,\n",
       " 'comics': 561,\n",
       " 'god': 561,\n",
       " 'bringing': 560,\n",
       " 'when': 560,\n",
       " 'park': 559,\n",
       " 'vs': 558,\n",
       " 'website': 556,\n",
       " 'everyone': 556,\n",
       " 'fine': 556,\n",
       " 'down': 555,\n",
       " 'things': 555,\n",
       " 'center': 555,\n",
       " 'beauty': 554,\n",
       " 'work': 554,\n",
       " 'fiction': 554,\n",
       " 'independent': 553,\n",
       " 'tale': 552,\n",
       " 'guitar': 552,\n",
       " 'here': 551,\n",
       " 'men': 551,\n",
       " 'battle': 549,\n",
       " 'over': 547,\n",
       " 'am': 547,\n",
       " 'limited': 542,\n",
       " 'podcast': 541,\n",
       " 'island': 540,\n",
       " 'wall': 535,\n",
       " 'paper': 534,\n",
       " 'simple': 529,\n",
       " '2011': 526,\n",
       " 'jazz': 524,\n",
       " 'easy': 524,\n",
       " 'so': 523,\n",
       " '7': 522,\n",
       " 'after': 521,\n",
       " 'burning': 520,\n",
       " 'prints': 518,\n",
       " 'sports': 517,\n",
       " 'secret': 513,\n",
       " 'single': 510,\n",
       " 'anthology': 509,\n",
       " 'culture': 509,\n",
       " 'body': 507,\n",
       " 'fringe': 507,\n",
       " 'painting': 505,\n",
       " 'bottle': 504,\n",
       " 'solar': 501,\n",
       " 'mind': 501,\n",
       " 'moon': 501,\n",
       " 'color': 499,\n",
       " 'tool': 498,\n",
       " 'three': 498,\n",
       " 'country': 498,\n",
       " 'keep': 498,\n",
       " 'heroes': 493,\n",
       " 'metal': 493,\n",
       " 'network': 492,\n",
       " 'sea': 491,\n",
       " 'machine': 491,\n",
       " 'place': 490,\n",
       " 'monster': 490,\n",
       " 'picture': 490,\n",
       " 'eyes': 490,\n",
       " 'survival': 489,\n",
       " 'london': 489,\n",
       " 'room': 489,\n",
       " 'education': 489,\n",
       " 'vol': 488,\n",
       " '2nd': 488,\n",
       " 'wear': 488,\n",
       " 'im': 488,\n",
       " 'learn': 484,\n",
       " 'productions': 482,\n",
       " 'publishing': 482,\n",
       " 'sauce': 481,\n",
       " 'blood': 481,\n",
       " 'makes': 480,\n",
       " 'classic': 480,\n",
       " 'electric': 478,\n",
       " 'peace': 477,\n",
       " 'webseries': 476,\n",
       " 'happy': 474,\n",
       " 'every': 474,\n",
       " 'fulllength': 469,\n",
       " 'human': 467,\n",
       " 'bakery': 467,\n",
       " 'stage': 466,\n",
       " 'market': 464,\n",
       " 'fresh': 463,\n",
       " '10': 462,\n",
       " 'wars': 461,\n",
       " 'student': 461,\n",
       " 'age': 458,\n",
       " 'chronicles': 458,\n",
       " 'again': 458,\n",
       " 'craft': 457,\n",
       " 'team': 457,\n",
       " 'quest': 456,\n",
       " 'air': 456,\n",
       " 'pop': 456,\n",
       " 'south': 456,\n",
       " 'than': 456,\n",
       " 'led': 455,\n",
       " 'bbq': 454,\n",
       " 'john': 454,\n",
       " 'expansion': 454,\n",
       " '6': 454,\n",
       " 'portable': 452,\n",
       " 'creating': 452,\n",
       " 'north': 451,\n",
       " 'tabletop': 451,\n",
       " 'going': 450,\n",
       " 'coast': 450,\n",
       " 'rise': 450,\n",
       " 'tree': 449,\n",
       " 'without': 447,\n",
       " 'tea': 446,\n",
       " 'dragon': 446,\n",
       " 'pocket': 445,\n",
       " 'mini': 443,\n",
       " 'coloring': 443,\n",
       " 'movement': 442,\n",
       " 'town': 441,\n",
       " 'final': 440,\n",
       " 'wine': 439,\n",
       " 'side': 436,\n",
       " 'press': 435,\n",
       " 'development': 435,\n",
       " 'money': 434,\n",
       " 'virtual': 432,\n",
       " 'restaurant': 432,\n",
       " 'robot': 432,\n",
       " 'international': 431,\n",
       " 'personal': 431,\n",
       " 'bad': 431,\n",
       " 'printing': 431,\n",
       " 'store': 430,\n",
       " 'coming': 429,\n",
       " 'stop': 428,\n",
       " 'sun': 426,\n",
       " 'around': 426,\n",
       " 'audio': 425,\n",
       " 'thriller': 425,\n",
       " 'nature': 424,\n",
       " 'dvd': 423,\n",
       " 'sky': 422,\n",
       " 'generation': 422,\n",
       " 'journal': 421,\n",
       " 'amazing': 419,\n",
       " 'pet': 418,\n",
       " 'hero': 417,\n",
       " 'learning': 414,\n",
       " 'land': 414,\n",
       " 'luxury': 413,\n",
       " 'ios': 412,\n",
       " 'child': 412,\n",
       " 'poster': 412,\n",
       " 'together': 410,\n",
       " 'see': 409,\n",
       " 'ghost': 409,\n",
       " 'dogs': 408,\n",
       " 'long': 407,\n",
       " 'finish': 406,\n",
       " 'sustainable': 406,\n",
       " 'boy': 406,\n",
       " 'top': 406,\n",
       " 'fitness': 406,\n",
       " 'awesome': 406,\n",
       " 'handcrafted': 404,\n",
       " 'global': 403,\n",
       " 'shirts': 402,\n",
       " 'bags': 402,\n",
       " 'platform': 402,\n",
       " 'shoes': 401,\n",
       " 'trip': 401,\n",
       " 'visual': 400,\n",
       " 'let': 399,\n",
       " 'opera': 399,\n",
       " 'x': 398,\n",
       " 'public': 398,\n",
       " 'chocolate': 397,\n",
       " 'drive': 397,\n",
       " 'premiere': 396,\n",
       " 'publish': 396,\n",
       " 'special': 396,\n",
       " 'toy': 396,\n",
       " 'healthy': 396,\n",
       " 'meets': 396,\n",
       " 'fundraiser': 395,\n",
       " 'wooden': 395,\n",
       " 'shirt': 394,\n",
       " 'die': 394,\n",
       " 'pizza': 393,\n",
       " 'smartphone': 393,\n",
       " 'give': 393,\n",
       " 'truth': 393,\n",
       " 'control': 393,\n",
       " 'premium': 392,\n",
       " 'river': 392,\n",
       " 'vegan': 390,\n",
       " 'look': 390,\n",
       " 'technology': 390,\n",
       " 'voice': 390,\n",
       " 'grow': 389,\n",
       " 'complete': 388,\n",
       " 'college': 387,\n",
       " 'accessories': 387,\n",
       " 'freedom': 386,\n",
       " 'chicago': 386,\n",
       " 'there': 386,\n",
       " 'pro': 385,\n",
       " 'david': 385,\n",
       " 'miniatures': 385,\n",
       " 'know': 384,\n",
       " 'apple': 383,\n",
       " 'pen': 382,\n",
       " 'spirit': 382,\n",
       " 'join': 381,\n",
       " 'w': 381,\n",
       " '12': 381,\n",
       " 'printed': 381,\n",
       " 'motion': 381,\n",
       " 'everything': 381,\n",
       " 'cookbook': 380,\n",
       " 'diy': 380,\n",
       " 'words': 376,\n",
       " 'videos': 376,\n",
       " 'lives': 375,\n",
       " 'illustrated': 374,\n",
       " 'works': 373,\n",
       " 'affordable': 373,\n",
       " 'vintage': 373,\n",
       " 'state': 370,\n",
       " 'football': 370,\n",
       " 'too': 370,\n",
       " 'san': 368,\n",
       " 'portraits': 368,\n",
       " 'search': 368,\n",
       " 'pc': 368,\n",
       " 'winter': 366,\n",
       " 'legend': 366,\n",
       " 'gourmet': 364,\n",
       " 'mr': 363,\n",
       " 'quality': 363,\n",
       " 'planet': 363,\n",
       " 'under': 363,\n",
       " 'fan': 362,\n",
       " 'studios': 362,\n",
       " 'spring': 361,\n",
       " 'gold': 361,\n",
       " 'watches': 361,\n",
       " 'mountain': 360,\n",
       " 'share': 359,\n",
       " 'any': 358,\n",
       " 'james': 358,\n",
       " 'before': 358,\n",
       " 'cooking': 356,\n",
       " 'collective': 356,\n",
       " 'animal': 355,\n",
       " 'double': 354,\n",
       " 'gift': 354,\n",
       " 'east': 351,\n",
       " 'find': 351,\n",
       " 'behind': 351,\n",
       " 'source': 350,\n",
       " 'self': 350,\n",
       " 'startup': 350,\n",
       " 'ride': 349,\n",
       " 'thesis': 349,\n",
       " 'blues': 348,\n",
       " 'national': 348,\n",
       " 'sculpture': 347,\n",
       " 'stars': 347,\n",
       " 'call': 346,\n",
       " 'cool': 346,\n",
       " 'key': 346,\n",
       " 'post': 345,\n",
       " 'internet': 345,\n",
       " 'golf': 342,\n",
       " 'paintings': 341,\n",
       " 'working': 341,\n",
       " 'legacy': 340,\n",
       " 'funds': 340,\n",
       " 'residency': 340,\n",
       " 'face': 340,\n",
       " 'michael': 340,\n",
       " 'event': 340,\n",
       " 'please': 339,\n",
       " 'broken': 339,\n",
       " 'wireless': 339,\n",
       " 'fly': 337,\n",
       " 'return': 337,\n",
       " 'gear': 337,\n",
       " 'portrait': 337,\n",
       " 'turn': 337,\n",
       " 'episode': 337,\n",
       " 'lights': 337,\n",
       " 'word': 336,\n",
       " 'writing': 336,\n",
       " 'escape': 336,\n",
       " 'eat': 335,\n",
       " 'device': 335,\n",
       " 'inside': 334,\n",
       " 'bear': 333,\n",
       " 'worship': 332,\n",
       " 'training': 332,\n",
       " 'fight': 332,\n",
       " 'if': 331,\n",
       " 'universal': 331,\n",
       " 'energy': 330,\n",
       " 'southern': 330,\n",
       " '30': 329,\n",
       " 'beach': 329,\n",
       " 'challenge': 328,\n",
       " 'van': 328,\n",
       " 'ready': 328,\n",
       " 'right': 327,\n",
       " 'christian': 327,\n",
       " 'some': 326,\n",
       " 'were': 325,\n",
       " 'detroit': 324,\n",
       " 'hands': 324,\n",
       " 'news': 324,\n",
       " 'products': 324,\n",
       " 'trailer': 323,\n",
       " 'los': 323,\n",
       " 'uk': 323,\n",
       " 'youtube': 323,\n",
       " 'service': 320,\n",
       " 'steampunk': 318,\n",
       " 'health': 317,\n",
       " 'boys': 317,\n",
       " 'kind': 316,\n",
       " 'kickstart': 315,\n",
       " 'cover': 315,\n",
       " 'name': 314,\n",
       " 'anniversary': 314,\n",
       " 'printer': 314,\n",
       " 'entertainment': 314,\n",
       " 'strategy': 313,\n",
       " 'kings': 313,\n",
       " 'annual': 313,\n",
       " 'phase': 313,\n",
       " 'hop': 313,\n",
       " 'four': 312,\n",
       " 'solution': 312,\n",
       " 'safe': 311,\n",
       " 'something': 311,\n",
       " 'pi': 311,\n",
       " 'tribute': 310,\n",
       " 'title': 310,\n",
       " 'museum': 310,\n",
       " 'monsters': 310,\n",
       " 'five': 310,\n",
       " 'growing': 309,\n",
       " 'holder': 309,\n",
       " 'mystery': 308,\n",
       " 'woman': 307,\n",
       " 'was': 307,\n",
       " 'program': 307,\n",
       " 'wants': 307,\n",
       " 'relaunch': 306,\n",
       " 'legends': 306,\n",
       " 'across': 306,\n",
       " 'designed': 305,\n",
       " 'tiny': 304,\n",
       " 'angels': 304,\n",
       " 'meet': 303,\n",
       " 'rose': 303,\n",
       " 'eye': 302,\n",
       " 'drama': 302,\n",
       " 'fish': 302,\n",
       " 'alive': 301,\n",
       " 'films': 300,\n",
       " 'between': 300,\n",
       " 'workshop': 300,\n",
       " 'students': 300,\n",
       " 'hard': 299,\n",
       " 'cake': 299,\n",
       " 'hip': 299,\n",
       " 'hour': 299,\n",
       " 'why': 298,\n",
       " 'screen': 297,\n",
       " 'retro': 297,\n",
       " 'finding': 296,\n",
       " 'educational': 296,\n",
       " 'brothers': 296,\n",
       " 'gods': 296,\n",
       " 'mission': 295,\n",
       " 'but': 294,\n",
       " 'another': 294,\n",
       " 'creations': 294,\n",
       " 'fest': 294,\n",
       " 'magnetic': 294,\n",
       " 'library': 294,\n",
       " 'forever': 293,\n",
       " 'station': 293,\n",
       " 'camp': 293,\n",
       " 'innovative': 293,\n",
       " 'le': 292,\n",
       " 'lifestyle': 292,\n",
       " 'ball': 292,\n",
       " 'photographic': 291,\n",
       " 'race': 291,\n",
       " 'kid': 291,\n",
       " 'roll': 291,\n",
       " 'st': 290,\n",
       " 'zombies': 290,\n",
       " 'texas': 290,\n",
       " 'brewery': 289,\n",
       " 'cup': 289,\n",
       " 't': 289,\n",
       " 'el': 289,\n",
       " 'piano': 289,\n",
       " 'orchestra': 289,\n",
       " 'mural': 288,\n",
       " 'yoga': 287,\n",
       " 'fast': 287,\n",
       " 'clean': 287,\n",
       " 'revolutionary': 287,\n",
       " 'usb': 287,\n",
       " 'has': 287,\n",
       " 'paint': 286,\n",
       " 'changing': 286,\n",
       " 'cream': 285,\n",
       " 'professional': 285,\n",
       " 'level': 284,\n",
       " 'stone': 284,\n",
       " 'being': 284,\n",
       " 'charger': 284,\n",
       " 'edinburgh': 283,\n",
       " 'inc': 283,\n",
       " 'shadow': 283,\n",
       " 'titanium': 282,\n",
       " 'cats': 282,\n",
       " 'golden': 282,\n",
       " 'pack': 282,\n",
       " 'jack': 282,\n",
       " 'hidden': 281,\n",
       " 'cancer': 281,\n",
       " 'edge': 280,\n",
       " 'official': 280,\n",
       " 'talk': 280,\n",
       " 'put': 280,\n",
       " 'head': 280,\n",
       " 'kingdom': 279,\n",
       " 'century': 279,\n",
       " 'hair': 279,\n",
       " 'mount': 278,\n",
       " 'away': 277,\n",
       " 'week': 277,\n",
       " 'creation': 277,\n",
       " 'hell': 276,\n",
       " 'installation': 276,\n",
       " 'walk': 276,\n",
       " 'still': 276,\n",
       " 'valley': 276,\n",
       " 'angel': 276,\n",
       " 'cheese': 275,\n",
       " 'minimalist': 275,\n",
       " 'california': 275,\n",
       " 'designer': 274,\n",
       " 'care': 274,\n",
       " 'universe': 274,\n",
       " 'oil': 274,\n",
       " 'laser': 273,\n",
       " 'group': 273,\n",
       " 'puzzle': 273,\n",
       " 'safety': 273,\n",
       " 'everyday': 273,\n",
       " 'saving': 272,\n",
       " 'apocalypse': 272,\n",
       " 'photos': 271,\n",
       " 'brooklyn': 270,\n",
       " '8': 269,\n",
       " 'stickers': 269,\n",
       " 'got': 269,\n",
       " 'forgotten': 268,\n",
       " 'arduino': 268,\n",
       " 'hollywood': 268,\n",
       " 'door': 267,\n",
       " 'master': 267,\n",
       " 'deep': 267,\n",
       " 'modular': 267,\n",
       " 'nation': 267,\n",
       " 'e': 266,\n",
       " 'rising': 265,\n",
       " 'steel': 265,\n",
       " 'times': 265,\n",
       " 'carbon': 265,\n",
       " 'trilogy': 263,\n",
       " 'against': 263,\n",
       " 'faith': 263,\n",
       " 'chicken': 262,\n",
       " 'contemporary': 262,\n",
       " 'adult': 262,\n",
       " 'memory': 261,\n",
       " 'holiday': 261,\n",
       " 'exhibit': 261,\n",
       " 'hearts': 260,\n",
       " 'finishing': 260,\n",
       " 'vision': 260,\n",
       " 'touch': 260,\n",
       " 'map': 260,\n",
       " 'language': 260,\n",
       " 'candles': 259,\n",
       " 'cold': 257,\n",
       " 'friend': 257,\n",
       " 'llc': 257,\n",
       " 'become': 257,\n",
       " 'gay': 257,\n",
       " 'trail': 257,\n",
       " 'animation': 256,\n",
       " 'piece': 256,\n",
       " 'crazy': 256,\n",
       " 'dungeon': 256,\n",
       " 'fit': 255,\n",
       " 'ebook': 255,\n",
       " 'mark': 255,\n",
       " 'point': 254,\n",
       " 'twist': 254,\n",
       " 'chris': 253,\n",
       " 'label': 253,\n",
       " 'africa': 253,\n",
       " 'sleep': 253,\n",
       " 'backpack': 252,\n",
       " 'getting': 252,\n",
       " 'channel': 252,\n",
       " 'dirty': 252,\n",
       " 'furniture': 251,\n",
       " 'voices': 251,\n",
       " 'zero': 251,\n",
       " 'society': 251,\n",
       " 'womens': 249,\n",
       " 'powered': 249,\n",
       " 'equipment': 249,\n",
       " '50': 249,\n",
       " 'step': 248,\n",
       " 'mother': 248,\n",
       " 'fair': 248,\n",
       " 'friendly': 248,\n",
       " 'evolution': 248,\n",
       " 'italian': 248,\n",
       " 'plush': 248,\n",
       " '2017': 248,\n",
       " 'honey': 247,\n",
       " 'operation': 246,\n",
       " 'computer': 246,\n",
       " 'players': 246,\n",
       " 'nothing': 245,\n",
       " 'grand': 245,\n",
       " 'class': 244,\n",
       " 'toys': 244,\n",
       " 'preorder': 243,\n",
       " 'code': 243,\n",
       " 'candy': 243,\n",
       " 'they': 243,\n",
       " 'lovers': 242,\n",
       " 'animals': 242,\n",
       " 'within': 241,\n",
       " 'tees': 240,\n",
       " 'bus': 240,\n",
       " 'ring': 240,\n",
       " 'cloud': 240,\n",
       " 'english': 240,\n",
       " 'memoir': 240,\n",
       " 'welcome': 240,\n",
       " 'underground': 240,\n",
       " 'bluetooth': 239,\n",
       " 'projects': 238,\n",
       " 'university': 238,\n",
       " 'seven': 236,\n",
       " 'drone': 236,\n",
       " 'raspberry': 236,\n",
       " 'saga': 235,\n",
       " 'tell': 235,\n",
       " 'past': 235,\n",
       " 'different': 235,\n",
       " 'joe': 235,\n",
       " 'ink': 235,\n",
       " 'electronic': 235,\n",
       " 'wolf': 235,\n",
       " 'halloween': 234,\n",
       " 'wheels': 234,\n",
       " 'very': 234,\n",
       " 'fiber': 234,\n",
       " 'bacon': 234,\n",
       " 'healing': 234,\n",
       " 'sex': 234,\n",
       " 'planner': 234,\n",
       " 'raw': 234,\n",
       " 'dragons': 233,\n",
       " 'concept': 233,\n",
       " 'faces': 233,\n",
       " 'wearable': 233,\n",
       " 'son': 233,\n",
       " 'queen': 233,\n",
       " 'boutique': 232,\n",
       " 'circle': 232,\n",
       " 'silver': 232,\n",
       " 'con': 232,\n",
       " 'lady': 232,\n",
       " 'senior': 231,\n",
       " 'looking': 231,\n",
       " 'fairy': 231,\n",
       " 'racing': 231,\n",
       " 'software': 231,\n",
       " 'showcase': 230,\n",
       " 'o': 230,\n",
       " 'lake': 230,\n",
       " 'letters': 230,\n",
       " 'yourself': 230,\n",
       " 'cut': 230,\n",
       " 'skin': 229,\n",
       " 'paradise': 229,\n",
       " 'bird': 228,\n",
       " '3rd': 228,\n",
       " 'taking': 228,\n",
       " 'flight': 228,\n",
       " 'fishing': 227,\n",
       " 'buy': 227,\n",
       " 'shadows': 227,\n",
       " ...}"
      ]
     },
     "execution_count": 70,
     "metadata": {},
     "output_type": "execute_result"
    }
   ],
   "source": [
    "# Récupérer la liste des noms depuis df_transform['Name'].\n",
    "names = list(df_clean['Name'])\n",
    "\n",
    "# Initialiser une liste (words) pour stocker les mots et une variable (i) qui sert de compteur.\n",
    "words = []\n",
    "i = 0 \n",
    "\n",
    "# Diviser les noms en mots et les ajouter à la liste 'words'.\n",
    "while i < len(names):\n",
    "    new_words = names[i].split()\n",
    "    words.extend(new_words)\n",
    "    i += 1\n",
    "\n",
    "# Créer un dictionnaire vide pour stocker les comptes.\n",
    "word_count = {}\n",
    "\n",
    "# Compter les occurrences de chaque élément dans la liste.\n",
    "for item in words:\n",
    "    if item in word_count:\n",
    "        word_count[item] += 1\n",
    "    else:\n",
    "        word_count[item] = 1\n",
    "\n",
    "# Trier le dictionnaire par valeurs en ordre décroissant.\n",
    "sorted_words = dict(sorted(word_count.items(), key=lambda item: item[1], reverse=True))\n",
    "sorted_words"
   ]
  },
  {
   "cell_type": "code",
   "execution_count": 71,
   "metadata": {},
   "outputs": [
    {
     "name": "stdout",
     "output_type": "stream",
     "text": [
      "Nombre d'observations avec des valeurs manquantes : 42\n"
     ]
    },
    {
     "data": {
      "text/html": [
       "<div>\n",
       "<style scoped>\n",
       "    .dataframe tbody tr th:only-of-type {\n",
       "        vertical-align: middle;\n",
       "    }\n",
       "\n",
       "    .dataframe tbody tr th {\n",
       "        vertical-align: top;\n",
       "    }\n",
       "\n",
       "    .dataframe thead th {\n",
       "        text-align: right;\n",
       "    }\n",
       "</style>\n",
       "<table border=\"1\" class=\"dataframe\">\n",
       "  <thead>\n",
       "    <tr style=\"text-align: right;\">\n",
       "      <th></th>\n",
       "      <th>ID</th>\n",
       "      <th>Name</th>\n",
       "    </tr>\n",
       "  </thead>\n",
       "  <tbody>\n",
       "    <tr>\n",
       "      <th>0</th>\n",
       "      <td>1000002330</td>\n",
       "      <td>the songs of adelaide abullah</td>\n",
       "    </tr>\n",
       "  </tbody>\n",
       "</table>\n",
       "</div>"
      ],
      "text/plain": [
       "           ID                           Name\n",
       "0  1000002330  the songs of adelaide abullah"
      ]
     },
     "execution_count": 71,
     "metadata": {},
     "output_type": "execute_result"
    }
   ],
   "source": [
    "'''\n",
    "NOTE : Les mots 'canceled', 'cancelled' et 'suspended' reviennent souvent et ne sont pas pertinents dans le contexte d'un nom de projet.\n",
    "On peut donc assumer qu'ils sont des erreurs et les retirer. \n",
    "'''\n",
    "\n",
    "# Appel la fonction de nettoyage des données de caractères.\n",
    "string_cleaning(df_clean,'Name',['canceled','cancelled','cancelled project','suspended'],1)\n",
    "df_clean.head(1)"
   ]
  },
  {
   "cell_type": "markdown",
   "metadata": {},
   "source": [
    "#### **Étape 4.4 : Profilage et normalisation de la variable Category (variable catégorielle)**"
   ]
  },
  {
   "cell_type": "code",
   "execution_count": 72,
   "metadata": {},
   "outputs": [
    {
     "name": "stdout",
     "output_type": "stream",
     "text": [
      "Colonne category a des valeurs manquantes : True\n",
      "Colonne category a seulement des valeurs de type <class 'str'> : False\n",
      "Colonne category a des valeurs uniques : False\n"
     ]
    }
   ],
   "source": [
    "# Profile les données dans la colonne category\n",
    "data_profiling(df, 'category ', str)"
   ]
  },
  {
   "cell_type": "code",
   "execution_count": 73,
   "metadata": {},
   "outputs": [],
   "source": [
    "# Fonction qui retrouve les groupes qui sont sous-utilisés\n",
    "def group_analysis(df, column, cutoff, list_items):\n",
    "    # Vérifie et crée une liste de groupes qui sont répertoriées dans moins de x (cutoff) nombres d'observations.\n",
    "    group_count = df[column].value_counts()\n",
    "    groups_with_low_count = list(group_count[group_count < cutoff].index)\n",
    "    # Crée une liste d'index qui détiennent les dites catégories à moindre fréquence.\n",
    "    mask = df[column].isin(groups_with_low_count)\n",
    "    indexes_to_remove = list(df.index[mask])\n",
    "    if list_items != None:\n",
    "        # Crée une liste d'index qui détiennent les dites catégories à moindre fréquence.\n",
    "        mask = ~df[column].isin(list_items)\n",
    "        indexes_to_remove = list(df.index[mask])\n",
    "\n",
    "    return group_count, indexes_to_remove\n",
    "\n",
    "# Assigne le output de la fonction à deux variables qu'on peut utiliser pour l'analyse. \n",
    "group_count, indexes_to_remove = group_analysis(df, 'category ', 1000, None)"
   ]
  },
  {
   "cell_type": "code",
   "execution_count": 74,
   "metadata": {},
   "outputs": [],
   "source": [
    "'''\n",
    "NOTE : On remarque que, dans 627 observations, les noms de catégories sont simplement des suites de noms de projet qui sont décalés.\n",
    "Comme nous avons plusieurs colonnes décalées, il est logique de construire une fonction pour ce problème.\n",
    "'''\n",
    "\n",
    "# Fonction qui les valeurs de la colonne subséquente à la colonne actuelle.\n",
    "def replace_cat_values(column, original_col, selected_cutoff, selected_list):\n",
    "    # Assigne le output de la fonction à deux variables qu'on peut utiliser pour la suite de la fonction. \n",
    "    group_count, indexes_to_remove = group_analysis(df, original_col, selected_cutoff, selected_list)\n",
    "    # Crée la colonne dans le df_clean\n",
    "    df_clean[column] = df[original_col]\n",
    "    # Trouve l'index de la colonne\n",
    "    column_index = df_clean.columns.get_loc(column)\n",
    "    # Remplace les valeurs des observations décalées par celle de la colonne suivante. \n",
    "    df_clean[column] = np.where(df.index.isin(indexes_to_remove), df.iloc[:,column_index+1], df.iloc[:,column_index])\n",
    "\n",
    "# Assigne les valeurs de la colonne subséquente (main_category) à la colonne actuelle (category).\n",
    "replace_cat_values('Category','category ', 1000, None)"
   ]
  },
  {
   "cell_type": "code",
   "execution_count": 75,
   "metadata": {},
   "outputs": [
    {
     "name": "stdout",
     "output_type": "stream",
     "text": [
      "Nombre d'observations dont la catégorie est inadéquate : 81\n"
     ]
    }
   ],
   "source": [
    "'''\n",
    "NOTE : Étape de validation pour les transformations de la colonne Category.\n",
    "'''\n",
    "\n",
    "# Assigne le output de la fonction à deux variables qu'on peut utiliser pour l'analyse. \n",
    "group_count, indexes_to_remove = group_analysis(df_clean, 'Category', 1000, None)\n",
    "\n",
    "# Regarde le nombre de catégorie qui sont toujours mal assignée. \n",
    "print(f'Nombre d\\'observations dont la catégorie est inadéquate : {len(indexes_to_remove)}')"
   ]
  },
  {
   "cell_type": "code",
   "execution_count": 76,
   "metadata": {},
   "outputs": [
    {
     "name": "stdout",
     "output_type": "stream",
     "text": [
      "Nombre d'observations avec des valeurs manquantes : 0\n"
     ]
    },
    {
     "data": {
      "text/html": [
       "<div>\n",
       "<style scoped>\n",
       "    .dataframe tbody tr th:only-of-type {\n",
       "        vertical-align: middle;\n",
       "    }\n",
       "\n",
       "    .dataframe tbody tr th {\n",
       "        vertical-align: top;\n",
       "    }\n",
       "\n",
       "    .dataframe thead th {\n",
       "        text-align: right;\n",
       "    }\n",
       "</style>\n",
       "<table border=\"1\" class=\"dataframe\">\n",
       "  <thead>\n",
       "    <tr style=\"text-align: right;\">\n",
       "      <th></th>\n",
       "      <th>ID</th>\n",
       "      <th>Name</th>\n",
       "      <th>Category</th>\n",
       "    </tr>\n",
       "  </thead>\n",
       "  <tbody>\n",
       "    <tr>\n",
       "      <th>0</th>\n",
       "      <td>1000002330</td>\n",
       "      <td>the songs of adelaide abullah</td>\n",
       "      <td>Poetry</td>\n",
       "    </tr>\n",
       "  </tbody>\n",
       "</table>\n",
       "</div>"
      ],
      "text/plain": [
       "           ID                           Name Category\n",
       "0  1000002330  the songs of adelaide abullah   Poetry"
      ]
     },
     "execution_count": 76,
     "metadata": {},
     "output_type": "execute_result"
    }
   ],
   "source": [
    "# Transforme toutes les valeurs de la colonne Category en str.\n",
    "string_cleaning(df_clean,'Category',None,0)\n",
    "df_clean.head(1)"
   ]
  },
  {
   "cell_type": "markdown",
   "metadata": {},
   "source": [
    "#### **Étape 4.5 : Profilage et normalisation de la variable MainCategory (variable catégorielle)**"
   ]
  },
  {
   "cell_type": "code",
   "execution_count": 77,
   "metadata": {},
   "outputs": [
    {
     "name": "stdout",
     "output_type": "stream",
     "text": [
      "Colonne main_category a des valeurs manquantes : False\n",
      "Colonne main_category a seulement des valeurs de type <class 'str'> : True\n",
      "Colonne main_category a des valeurs uniques : False\n"
     ]
    }
   ],
   "source": [
    "# Profile les données dans la colonne category\n",
    "data_profiling(df, 'main_category ', str)"
   ]
  },
  {
   "cell_type": "code",
   "execution_count": 78,
   "metadata": {},
   "outputs": [],
   "source": [
    "# Assigne le output de la fonction à deux variables qu'on peut utiliser pour l'analyse. \n",
    "group_count, indexes_to_remove = group_analysis(df, 'main_category ', 100, None)"
   ]
  },
  {
   "cell_type": "code",
   "execution_count": 79,
   "metadata": {},
   "outputs": [],
   "source": [
    "# Assigne les valeurs de la colonne subséquente (currency) à la colonne actuelle (main_category).\n",
    "replace_cat_values('MainCategory','main_category ',100, None)"
   ]
  },
  {
   "cell_type": "code",
   "execution_count": 80,
   "metadata": {},
   "outputs": [
    {
     "name": "stdout",
     "output_type": "stream",
     "text": [
      "Nombre d'observations dont la catégorie est inadéquate : 9\n"
     ]
    }
   ],
   "source": [
    "'''\n",
    "NOTE : Étape de validation pour les transformations de la colonne MainCategory. \n",
    "'''\n",
    "\n",
    "# Assigne le output de la fonction à deux variables qu'on peut utiliser pour l'analyse. \n",
    "group_count, indexes_to_remove = group_analysis(df_clean, 'MainCategory', 100, None)\n",
    "\n",
    "# Regarde le nombre de catégorie qui sont toujours mal assignée. \n",
    "print(f'Nombre d\\'observations dont la catégorie est inadéquate : {len(indexes_to_remove)}')"
   ]
  },
  {
   "cell_type": "code",
   "execution_count": 81,
   "metadata": {},
   "outputs": [
    {
     "name": "stdout",
     "output_type": "stream",
     "text": [
      "Nombre d'observations avec des valeurs manquantes : 0\n"
     ]
    },
    {
     "data": {
      "text/html": [
       "<div>\n",
       "<style scoped>\n",
       "    .dataframe tbody tr th:only-of-type {\n",
       "        vertical-align: middle;\n",
       "    }\n",
       "\n",
       "    .dataframe tbody tr th {\n",
       "        vertical-align: top;\n",
       "    }\n",
       "\n",
       "    .dataframe thead th {\n",
       "        text-align: right;\n",
       "    }\n",
       "</style>\n",
       "<table border=\"1\" class=\"dataframe\">\n",
       "  <thead>\n",
       "    <tr style=\"text-align: right;\">\n",
       "      <th></th>\n",
       "      <th>ID</th>\n",
       "      <th>Name</th>\n",
       "      <th>Category</th>\n",
       "      <th>MainCategory</th>\n",
       "    </tr>\n",
       "  </thead>\n",
       "  <tbody>\n",
       "    <tr>\n",
       "      <th>0</th>\n",
       "      <td>1000002330</td>\n",
       "      <td>the songs of adelaide abullah</td>\n",
       "      <td>Poetry</td>\n",
       "      <td>Publishing</td>\n",
       "    </tr>\n",
       "  </tbody>\n",
       "</table>\n",
       "</div>"
      ],
      "text/plain": [
       "           ID                           Name Category MainCategory\n",
       "0  1000002330  the songs of adelaide abullah   Poetry   Publishing"
      ]
     },
     "execution_count": 81,
     "metadata": {},
     "output_type": "execute_result"
    }
   ],
   "source": [
    "# Transforme toutes les valeurs de la colonne MainCategory en str\n",
    "string_cleaning(df_clean,'MainCategory',None,0)\n",
    "df_clean.head(1)"
   ]
  },
  {
   "cell_type": "markdown",
   "metadata": {},
   "source": [
    "#### **Étape 4.6 : Profilage et normalisation de la variable Currency (variable catégorielle)**"
   ]
  },
  {
   "cell_type": "code",
   "execution_count": 82,
   "metadata": {},
   "outputs": [
    {
     "name": "stdout",
     "output_type": "stream",
     "text": [
      "Colonne currency a des valeurs manquantes : False\n",
      "Colonne currency a seulement des valeurs de type <class 'str'> : True\n",
      "Colonne currency a des valeurs uniques : False\n"
     ]
    }
   ],
   "source": [
    "# Profile les données dans la colonne currency\n",
    "data_profiling(df,'currency ',str)"
   ]
  },
  {
   "cell_type": "code",
   "execution_count": 83,
   "metadata": {},
   "outputs": [],
   "source": [
    "# Assigne le output de la fonction à deux variables qu'on peut utiliser pour l'analyse. \n",
    "group_count, indexes_to_remove = group_analysis(df, 'currency ', 1, None)\n",
    "\n",
    "# Crée une liste de devises acceptées, à partir des données dans group_count.\n",
    "list_currencies = ('USD','GBP','CAD','EUR','AUD','SEK','NZD','DKK','NOK','CHF','MXN','SGD','HKD')\n",
    "\n",
    "# Assigne le output de la fonction group_analysis à deux variables qu'on peut utiliser savoir quels index n'ont pas les devises permises. \n",
    "group_count, indexes_to_remove = group_analysis(df, 'currency ', 1, list_currencies)"
   ]
  },
  {
   "cell_type": "code",
   "execution_count": 84,
   "metadata": {},
   "outputs": [],
   "source": [
    "# Assigne les valeurs de la colonne subséquente (main_category) à la colonne actuelle (currency).\n",
    "replace_cat_values('Currency','currency ',1,list_currencies)"
   ]
  },
  {
   "cell_type": "code",
   "execution_count": 85,
   "metadata": {},
   "outputs": [
    {
     "name": "stdout",
     "output_type": "stream",
     "text": [
      "Nombre d'observations dont la catégorie est inadéquate : 12\n"
     ]
    }
   ],
   "source": [
    "'''\n",
    "NOTE : Étape de validation pour les transformations de la colonne Currency. \n",
    "'''\n",
    "\n",
    "# Assigne le output de la fonction à deux variables qu'on peut utiliser pour l'analyse. \n",
    "group_count, indexes_to_remove = group_analysis(df_clean, 'Currency', 1, list_currencies)\n",
    "\n",
    "# Regarde le nombre de catégorie qui sont toujours mal assignée. \n",
    "print(f'Nombre d\\'observations dont la catégorie est inadéquate : {len(indexes_to_remove)}')"
   ]
  },
  {
   "cell_type": "code",
   "execution_count": 86,
   "metadata": {},
   "outputs": [
    {
     "name": "stdout",
     "output_type": "stream",
     "text": [
      "Nombre d'observations avec des valeurs manquantes : 0\n"
     ]
    },
    {
     "data": {
      "text/html": [
       "<div>\n",
       "<style scoped>\n",
       "    .dataframe tbody tr th:only-of-type {\n",
       "        vertical-align: middle;\n",
       "    }\n",
       "\n",
       "    .dataframe tbody tr th {\n",
       "        vertical-align: top;\n",
       "    }\n",
       "\n",
       "    .dataframe thead th {\n",
       "        text-align: right;\n",
       "    }\n",
       "</style>\n",
       "<table border=\"1\" class=\"dataframe\">\n",
       "  <thead>\n",
       "    <tr style=\"text-align: right;\">\n",
       "      <th></th>\n",
       "      <th>ID</th>\n",
       "      <th>Name</th>\n",
       "      <th>Category</th>\n",
       "      <th>MainCategory</th>\n",
       "      <th>Currency</th>\n",
       "    </tr>\n",
       "  </thead>\n",
       "  <tbody>\n",
       "    <tr>\n",
       "      <th>0</th>\n",
       "      <td>1000002330</td>\n",
       "      <td>the songs of adelaide abullah</td>\n",
       "      <td>Poetry</td>\n",
       "      <td>Publishing</td>\n",
       "      <td>GBP</td>\n",
       "    </tr>\n",
       "  </tbody>\n",
       "</table>\n",
       "</div>"
      ],
      "text/plain": [
       "           ID                           Name Category MainCategory Currency\n",
       "0  1000002330  the songs of adelaide abullah   Poetry   Publishing      GBP"
      ]
     },
     "execution_count": 86,
     "metadata": {},
     "output_type": "execute_result"
    }
   ],
   "source": [
    "# Transforme toutes les valeurs de la colonne Currency en str\n",
    "string_cleaning(df_clean,'Currency',None,0)\n",
    "df_clean.head(1)"
   ]
  },
  {
   "cell_type": "markdown",
   "metadata": {},
   "source": [
    "#### **Étape 4.7 : Profilage et normalisation de la variable Deadline (variable temporelle)**"
   ]
  },
  {
   "cell_type": "code",
   "execution_count": 87,
   "metadata": {},
   "outputs": [
    {
     "name": "stdout",
     "output_type": "stream",
     "text": [
      "Colonne deadline a des valeurs manquantes : False\n",
      "Colonne deadline a seulement des valeurs de type <class 'pandas._libs.tslibs.timestamps.Timestamp'> : False\n",
      "Colonne deadline a des valeurs uniques : False\n"
     ]
    }
   ],
   "source": [
    "# Profile les données dans la colonne deadline\n",
    "data_profiling(df,'deadline ', pd.Timestamp)"
   ]
  },
  {
   "cell_type": "code",
   "execution_count": 88,
   "metadata": {},
   "outputs": [
    {
     "name": "stdout",
     "output_type": "stream",
     "text": [
      "Nombre d'observations avec des valeurs manquantes : 632\n"
     ]
    }
   ],
   "source": [
    "'''\n",
    "NOTE : On remarque que les données de cette colonne ne sont pas enregistré dans un format adéquat.\n",
    "'''\n",
    "\n",
    "# Importation de la classe datetime du module datetime.\n",
    "from datetime import datetime\n",
    "\n",
    "# Définition de la fonction format_valide pour vérifier le format de la date.\n",
    "def is_valid_date(date_string):\n",
    "    try:\n",
    "        datetime.strptime(date_string, '%Y-%m-%d %H:%M:%S')\n",
    "        return True\n",
    "    except ValueError:\n",
    "        return False\n",
    "\n",
    "def initial_load_date(column, original_col):\n",
    "    # Vérifie la validité de la date et remplace les dates invalides par NaN.\n",
    "    df_clean[column] = df[original_col].apply(lambda x: x if is_valid_date(x) else np.nan)\n",
    "\n",
    "    # Regarde combien de valeurs n'ont pas le bon format.\n",
    "    missing_values = df_clean[column].isna().sum()\n",
    "    print(f\"Nombre d'observations avec des valeurs manquantes : {missing_values}\")\n",
    "\n",
    "initial_load_date('Deadline','deadline ')"
   ]
  },
  {
   "cell_type": "code",
   "execution_count": 89,
   "metadata": {},
   "outputs": [
    {
     "name": "stdout",
     "output_type": "stream",
     "text": [
      "Nombre d'observations avec des valeurs manquantes : 12\n"
     ]
    }
   ],
   "source": [
    "# Définition de la fonction replace_date_values, qui remplace les valeurs manquantes par la valeur de la colonnes suivante. \n",
    "def replace_date_values(column):\n",
    "    # Remplace les valeurs manquantes par celle de la colonne suivante. \n",
    "    col_to_replace = df_clean.columns.get_loc(column)\n",
    "    df_clean[df_clean.columns[col_to_replace]] = df_clean[df_clean.columns[col_to_replace]].fillna(value=df[df.columns[col_to_replace+1]])\n",
    "\n",
    "    # Change le format de la colone Deadline à datetime \n",
    "    df_clean[df_clean.columns[col_to_replace]] = pd.to_datetime(df_clean[df_clean.columns[col_to_replace]], format='%Y-%m-%d %H:%M:%S', errors='coerce')\n",
    "\n",
    "    # Regarde combien de valeurs n'ont pas le bon format.\n",
    "    missing_values = df_clean[column].isna().sum()\n",
    "    print(f\"Nombre d'observations avec des valeurs manquantes : {missing_values}\")\n",
    "\n",
    "# Remplace les valeurs manquantes par celle de la colonne suivante pour la colonne Deadline. \n",
    "replace_date_values('Deadline')"
   ]
  },
  {
   "cell_type": "markdown",
   "metadata": {},
   "source": [
    "#### **Étape 4.8 : Profilage et normalisation de la variable Goal (variable numérique)**"
   ]
  },
  {
   "cell_type": "code",
   "execution_count": 90,
   "metadata": {},
   "outputs": [
    {
     "name": "stdout",
     "output_type": "stream",
     "text": [
      "Colonne goal a des valeurs manquantes : False\n",
      "Colonne goal a seulement des valeurs de type <class 'float'> : False\n",
      "Colonne goal a des valeurs uniques : False\n"
     ]
    }
   ],
   "source": [
    "# Profile les données dans la colonne goal\n",
    "data_profiling(df,'goal ', float)"
   ]
  },
  {
   "cell_type": "code",
   "execution_count": 91,
   "metadata": {},
   "outputs": [
    {
     "name": "stdout",
     "output_type": "stream",
     "text": [
      "Nombre d'observations avec des valeurs manquantes : 632\n"
     ]
    }
   ],
   "source": [
    "def initial_load_num(column, original_col):\n",
    "    # Convertit la colonne objectif (goal) en format numérique avec des décimales (float).\n",
    "    df_clean[column] = pd.to_numeric(df[original_col], errors='coerce')\n",
    "\n",
    "    # Vérifie combien d'observations se sont fait attribuées la valeur manquante. 632 valeurs manquantes. \n",
    "    missing_values = df_clean[column].isna().sum()\n",
    "    print(f\"Nombre d'observations avec des valeurs manquantes : {missing_values}\")\n",
    "\n",
    "initial_load_num('Goal','goal ')"
   ]
  },
  {
   "cell_type": "code",
   "execution_count": 92,
   "metadata": {},
   "outputs": [
    {
     "name": "stdout",
     "output_type": "stream",
     "text": [
      "Nombre d'observations avec des valeurs manquantes : 12\n"
     ]
    }
   ],
   "source": [
    "def replace_num_values(column):\n",
    "    # Remplace les valeurs manquantes par celle de la colonne suivante. \n",
    "    col_to_replace = df_clean.columns.get_loc(column)\n",
    "    df_clean[df_clean.columns[col_to_replace]] = df_clean[df_clean.columns[col_to_replace]].fillna(value=df[df.columns[col_to_replace+1]])\n",
    "\n",
    "    # Convertit la colonne objectif (goal) en format numérique avec des décimales (float)\n",
    "    df_clean[column] = pd.to_numeric(df_clean[column], errors='coerce')\n",
    "\n",
    "    # Regarde combien de valeurs n'ont pas le bon format.\n",
    "    missing_values = df_clean[column].isna().sum()\n",
    "    print(f\"Nombre d'observations avec des valeurs manquantes : {missing_values}\")\n",
    "\n",
    "# Remplace les valeurs manquantes par celle de la colonne suivante pour la colonne Goal. \n",
    "replace_num_values('Goal')"
   ]
  },
  {
   "cell_type": "markdown",
   "metadata": {},
   "source": [
    "#### **Étape 4.9 : Profilage et normalisation de la variable Launched (variable temporelle)**"
   ]
  },
  {
   "cell_type": "code",
   "execution_count": 93,
   "metadata": {},
   "outputs": [
    {
     "name": "stdout",
     "output_type": "stream",
     "text": [
      "Colonne launched a des valeurs manquantes : False\n",
      "Colonne launched a seulement des valeurs de type <class 'pandas._libs.tslibs.timestamps.Timestamp'> : False\n",
      "Colonne launched a des valeurs uniques : False\n"
     ]
    }
   ],
   "source": [
    "# Profile les données dans la colonne Launched.\n",
    "data_profiling(df,'launched ', pd.Timestamp)"
   ]
  },
  {
   "cell_type": "code",
   "execution_count": 94,
   "metadata": {},
   "outputs": [
    {
     "name": "stdout",
     "output_type": "stream",
     "text": [
      "Nombre d'observations avec des valeurs manquantes : 624\n"
     ]
    }
   ],
   "source": [
    "# Vérifie la validité de la date et insère une variable Launched en état pré-nettoyage de données.\n",
    "initial_load_date('Launched', 'launched ')"
   ]
  },
  {
   "cell_type": "code",
   "execution_count": 95,
   "metadata": {},
   "outputs": [
    {
     "name": "stdout",
     "output_type": "stream",
     "text": [
      "Nombre d'observations avec des valeurs manquantes : 1\n"
     ]
    }
   ],
   "source": [
    "# Remplace les valeurs manquantes par celle de la colonne suivante pour la colonne Launched. \n",
    "replace_date_values('Launched')"
   ]
  },
  {
   "cell_type": "markdown",
   "metadata": {},
   "source": [
    "#### **Étape 4.10 : Profilage et normalisation de la variable Pledged (variable numérique)**"
   ]
  },
  {
   "cell_type": "code",
   "execution_count": 96,
   "metadata": {},
   "outputs": [
    {
     "name": "stdout",
     "output_type": "stream",
     "text": [
      "Colonne pledged a des valeurs manquantes : False\n",
      "Colonne pledged a seulement des valeurs de type <class 'float'> : False\n",
      "Colonne pledged a des valeurs uniques : False\n"
     ]
    }
   ],
   "source": [
    "# Profile les données dans la colonne pledged.\n",
    "data_profiling(df,'pledged ', float)"
   ]
  },
  {
   "cell_type": "code",
   "execution_count": 97,
   "metadata": {},
   "outputs": [
    {
     "name": "stdout",
     "output_type": "stream",
     "text": [
      "Nombre d'observations avec des valeurs manquantes : 624\n"
     ]
    }
   ],
   "source": [
    "# Vérifie la validité du format de colonne et insère une variable Pledged en état pré-nettoyage de données.\n",
    "initial_load_num('Pledged', 'pledged ')"
   ]
  },
  {
   "cell_type": "code",
   "execution_count": 98,
   "metadata": {},
   "outputs": [
    {
     "name": "stdout",
     "output_type": "stream",
     "text": [
      "Nombre d'observations avec des valeurs manquantes : 1\n"
     ]
    }
   ],
   "source": [
    "# Remplace les valeurs manquantes par celle de la colonne suivante pour la colonne Pledged. \n",
    "replace_num_values('Pledged')"
   ]
  },
  {
   "cell_type": "markdown",
   "metadata": {},
   "source": [
    "#### **Étape 4.12 : Profilage et normalisation de la variable State (variable catégorielle)**"
   ]
  },
  {
   "cell_type": "code",
   "execution_count": 99,
   "metadata": {},
   "outputs": [
    {
     "name": "stdout",
     "output_type": "stream",
     "text": [
      "Colonne state a des valeurs manquantes : False\n",
      "Colonne state a seulement des valeurs de type <class 'str'> : True\n",
      "Colonne state a des valeurs uniques : False\n"
     ]
    }
   ],
   "source": [
    "# Profile les données dans la colonne pledged.\n",
    "data_profiling(df,'state ', str)"
   ]
  },
  {
   "cell_type": "code",
   "execution_count": 100,
   "metadata": {},
   "outputs": [],
   "source": [
    "# Assigne le output de la fonction à deux variables qu'on peut utiliser pour l'analyse. \n",
    "group_count, indexes_to_remove = group_analysis(df, 'state ', 1, None)\n",
    "\n",
    "# Crée une liste de state accepté. \n",
    "list_states = ('failed','successful','canceled','live','undefined','suspended')\n",
    "\n",
    "# Assigne le output de la fonction à deux variables qu'on peut utiliser pour l'analyse. \n",
    "group_count, indexes_to_remove = group_analysis(df, 'state ', 1, list_states)"
   ]
  },
  {
   "cell_type": "code",
   "execution_count": 101,
   "metadata": {},
   "outputs": [],
   "source": [
    "# Assigne les valeurs de la colonne subséquente (backers) à la colonne actuelle (state).\n",
    "replace_cat_values('State','state ',1,list_states)"
   ]
  },
  {
   "cell_type": "code",
   "execution_count": 102,
   "metadata": {},
   "outputs": [
    {
     "name": "stdout",
     "output_type": "stream",
     "text": [
      "Nombre d'observations dont la catégorie est inadéquate : 12\n"
     ]
    }
   ],
   "source": [
    "'''\n",
    "NOTE : Étape de validation pour les transformations de la colonne State. \n",
    "'''\n",
    "\n",
    "# Assigne le output de la fonction à deux variables qu'on peut utiliser pour l'analyse. \n",
    "group_count, indexes_to_remove = group_analysis(df_clean, 'State', 1, list_states)\n",
    "\n",
    "# Regarde le nombre de catégorie qui sont toujours mal assignée. \n",
    "print(f'Nombre d\\'observations dont la catégorie est inadéquate : {len(indexes_to_remove)}')"
   ]
  },
  {
   "cell_type": "markdown",
   "metadata": {},
   "source": [
    "#### **Étape 4.13 : Profilage et normalisation de la variable Backers (variable numérique)**"
   ]
  },
  {
   "cell_type": "code",
   "execution_count": 103,
   "metadata": {},
   "outputs": [
    {
     "name": "stdout",
     "output_type": "stream",
     "text": [
      "Colonne backers a des valeurs manquantes : False\n",
      "Colonne backers a seulement des valeurs de type <class 'int'> : False\n",
      "Colonne backers a des valeurs uniques : False\n"
     ]
    }
   ],
   "source": [
    "# Profile les données dans la colonne backers.\n",
    "data_profiling(df,'backers ', int)"
   ]
  },
  {
   "cell_type": "code",
   "execution_count": 104,
   "metadata": {},
   "outputs": [
    {
     "name": "stdout",
     "output_type": "stream",
     "text": [
      "Nombre d'observations avec des valeurs manquantes : 623\n"
     ]
    }
   ],
   "source": [
    "# Vérifie la validité du format de colonne et insère une variable Backers en état pré-nettoyage de données.\n",
    "initial_load_num('Backers', 'backers ')"
   ]
  },
  {
   "cell_type": "code",
   "execution_count": 105,
   "metadata": {},
   "outputs": [
    {
     "name": "stdout",
     "output_type": "stream",
     "text": [
      "Nombre d'observations avec des valeurs manquantes : 0\n"
     ]
    }
   ],
   "source": [
    "# Remplace les valeurs manquantes par celle de la colonne suivante pour la colonne Backers. \n",
    "replace_num_values('Backers')\n",
    "\n",
    "# Convertit la colonne Backers en format int\n",
    "df_clean['Backers'] = df_clean['Backers'].astype(int)"
   ]
  },
  {
   "cell_type": "markdown",
   "metadata": {},
   "source": [
    "#### **Étape 4.13 : Profilage et normalisation de la variable Country (variable catégorielle)**"
   ]
  },
  {
   "cell_type": "code",
   "execution_count": 106,
   "metadata": {},
   "outputs": [
    {
     "name": "stdout",
     "output_type": "stream",
     "text": [
      "Colonne country a des valeurs manquantes : False\n",
      "Colonne country a seulement des valeurs de type <class 'str'> : True\n",
      "Colonne country a des valeurs uniques : False\n"
     ]
    }
   ],
   "source": [
    "# Profile les données dans la colonne country.\n",
    "data_profiling(df,'country ', str)"
   ]
  },
  {
   "cell_type": "code",
   "execution_count": 107,
   "metadata": {},
   "outputs": [],
   "source": [
    "# Assigne le output de la fonction à deux variables qu'on peut utiliser pour l'analyse. \n",
    "group_count, indexes_to_remove = group_analysis(df, 'country ', 1, None)\n",
    "\n",
    "# Crée une liste de pays accepté. \n",
    "list_countries = ('US','GB','CA','AU','DE','NL','FR','IT','ES','SE','NZ','DK','IE','NO','CH','BE','AT','MX','SG','HK')\n",
    "\n",
    "# Assigne le output de la fonction à deux variables qu'on peut utiliser pour l'analyse. \n",
    "group_count, indexes_to_remove = group_analysis(df, 'country ', 1, list_countries)"
   ]
  },
  {
   "cell_type": "code",
   "execution_count": 108,
   "metadata": {},
   "outputs": [],
   "source": [
    "# Assigne les valeurs de la colonne subséquente (usd_pledged) à la colonne actuelle (country).\n",
    "replace_cat_values('Country','country ',1,list_countries)"
   ]
  },
  {
   "cell_type": "code",
   "execution_count": 109,
   "metadata": {},
   "outputs": [
    {
     "name": "stdout",
     "output_type": "stream",
     "text": [
      "Nombre d'observations dont la catégorie est inadéquate : 3849\n"
     ]
    }
   ],
   "source": [
    "'''\n",
    "NOTE : Étape de validation pour les transformations de la colonne Country. \n",
    "'''\n",
    "\n",
    "# Assigne le output de la fonction à deux variables qu'on peut utiliser pour l'analyse. \n",
    "group_count, indexes_to_remove = group_analysis(df_clean, 'Country', 1, list_countries)\n",
    "\n",
    "# Regarde le nombre de catégorie qui sont toujours mal assignée. \n",
    "print(f'Nombre d\\'observations dont la catégorie est inadéquate : {len(indexes_to_remove)}')"
   ]
  },
  {
   "cell_type": "code",
   "execution_count": 110,
   "metadata": {},
   "outputs": [],
   "source": [
    "'''\n",
    "NOTE : Nous avons beaucoup de valeurs manquantes, en raison d'une classe mal representée ('N\"0'), qui contient beaucoup d'observations, \n",
    "mais qui ne figure pas parmi la liste de pays acceptés (list_countries). Une solution que nous pouvons appliquer pour régler ce \n",
    "problème est d'inférer le pays, à partir de la devise qui est associée à l'observation. La difficulté avec cette solution est que \n",
    "l'EURO est une devise utilisée dans plus qu'un pays.\n",
    "'''\n",
    "\n",
    "# Liste de devises et de pays acceptés.\n",
    "list_currencies = ('USD', 'GBP', 'CAD', 'AUD', 'SEK', 'NZD', 'DKK', 'NOK', 'CHF', 'MXN', 'SGD', 'HKD')\n",
    "list_countries = ('US', 'GB', 'CA', 'AU', 'SE', 'NZ', 'DK', 'NO', 'CH', 'MX', 'SG', 'HK')\n",
    "\n",
    "# Crée un dictionnaire de devise-pays.\n",
    "currency_to_country = dict(zip(list_currencies, list_countries))\n",
    "\n",
    "# Utilisez le dictionnaire pour remplir les valeurs manquantes de la colonne 'Country'.\n",
    "df_clean['Country'] = df_clean['Country'].fillna(df_clean['Currency'].map(currency_to_country))"
   ]
  },
  {
   "cell_type": "code",
   "execution_count": 111,
   "metadata": {},
   "outputs": [
    {
     "name": "stdout",
     "output_type": "stream",
     "text": [
      "Nombre d'observations dont la catégorie est inadéquate : 245\n"
     ]
    }
   ],
   "source": [
    "# Crée une liste de pays accepté. \n",
    "list_countries = ('US','GB','CA','AU','DE','NL','FR','IT','ES','SE','NZ','DK','IE','NO','CH','BE','AT','MX','SG','HK')\n",
    "\n",
    "# Assigne le output de la fonction à deux variables qu'on peut utiliser pour l'analyse. \n",
    "group_count, indexes_to_remove = group_analysis(df_clean, 'Country', 1, list_countries)\n",
    "\n",
    "# Regarde le nombre de catégorie qui sont toujours mal assignée. \n",
    "print(f'Nombre d\\'observations dont la catégorie est inadéquate : {len(indexes_to_remove)}')"
   ]
  },
  {
   "cell_type": "markdown",
   "metadata": {},
   "source": [
    "#### **Étape 4.14 : Profilage et normalisation de la variable USDPledged (variable numérique)**"
   ]
  },
  {
   "cell_type": "code",
   "execution_count": 112,
   "metadata": {},
   "outputs": [
    {
     "name": "stdout",
     "output_type": "stream",
     "text": [
      "Colonne usd pledged a des valeurs manquantes : True\n"
     ]
    },
    {
     "name": "stdout",
     "output_type": "stream",
     "text": [
      "Colonne usd pledged a seulement des valeurs de type <class 'float'> : False\n",
      "Colonne usd pledged a des valeurs uniques : False\n"
     ]
    }
   ],
   "source": [
    "# Profile les données dans la colonne usd_pledged.\n",
    "data_profiling(df,'usd pledged ', float)"
   ]
  },
  {
   "cell_type": "code",
   "execution_count": 113,
   "metadata": {},
   "outputs": [
    {
     "name": "stdout",
     "output_type": "stream",
     "text": [
      "Nombre d'observations avec des valeurs manquantes : 4413\n"
     ]
    }
   ],
   "source": [
    "# Vérifie la validité du format de colonne et insère une variable USDPledged.\n",
    "initial_load_num('USDPledged', 'usd pledged ')"
   ]
  },
  {
   "cell_type": "code",
   "execution_count": 114,
   "metadata": {},
   "outputs": [
    {
     "name": "stdout",
     "output_type": "stream",
     "text": [
      "La colonne USDPledged a été supprimée\n"
     ]
    }
   ],
   "source": [
    "'''\n",
    "NOTE : La variable USDPledged contient beaucoup de valeurs manquantes et est en fait une redondance d'information inutile. Ce type de\n",
    "redondance est insouhaitable alors qu'il peut générer l'overfitting du modèle. On peut donc supprimer cette colonne.\n",
    "'''\n",
    "try: \n",
    "    df_clean.drop(columns='USDPledged', inplace=True)\n",
    "    print('La colonne USDPledged a été supprimée')\n",
    "except KeyError:\n",
    "    print('La colonne USDPledged ne se trouve pas dans le Dataframe')"
   ]
  },
  {
   "cell_type": "markdown",
   "metadata": {},
   "source": [
    "# **Étape 5 : Nettoyer les données en traitant les valeurs manquantes et les valeurs abérrantes**\n",
    "\n",
    "Maintenant que nous avons normalisé les données, nous pouvons procédé au traitement des valeurs manquantes et des valeurs abérrantes. Il est pertinent d'effectuer ces tâches, une à la suite de l'autre, alors que ça permet de suivre la volumétrie et de s'assurer de la qualité des traitements occasionnés. Nous aurions pu également imputer les valeurs manquantes à l'étape de préparation des données pour le ML, mais considérant que nous en avons très peu, nous pouvons simplement les supprimer. "
   ]
  },
  {
   "cell_type": "code",
   "execution_count": 115,
   "metadata": {},
   "outputs": [
    {
     "name": "stdout",
     "output_type": "stream",
     "text": [
      "<class 'pandas.core.frame.DataFrame'>\n",
      "RangeIndex: 323750 entries, 0 to 323749\n",
      "Data columns (total 12 columns):\n",
      " #   Column        Non-Null Count   Dtype         \n",
      "---  ------        --------------   -----         \n",
      " 0   ID            323750 non-null  int64         \n",
      " 1   Name          323750 non-null  object        \n",
      " 2   Category      323750 non-null  object        \n",
      " 3   MainCategory  323750 non-null  object        \n",
      " 4   Currency      323750 non-null  object        \n",
      " 5   Deadline      323738 non-null  datetime64[ns]\n",
      " 6   Goal          323738 non-null  float64       \n",
      " 7   Launched      323749 non-null  datetime64[ns]\n",
      " 8   Pledged       323749 non-null  float64       \n",
      " 9   State         323750 non-null  object        \n",
      " 10  Backers       323750 non-null  int64         \n",
      " 11  Country       323564 non-null  object        \n",
      "dtypes: datetime64[ns](2), float64(2), int64(2), object(6)\n",
      "memory usage: 29.6+ MB\n"
     ]
    }
   ],
   "source": [
    "# Assure que les données sont dans un format adéquat\n",
    "df_clean.info()"
   ]
  },
  {
   "cell_type": "code",
   "execution_count": 116,
   "metadata": {},
   "outputs": [],
   "source": [
    "# Construit un Dataframe supplémentaire, car puisqu'on fait des suppressions et des transformations, il est pertinent de garder un backup.\n",
    "df_clean_m = df_clean"
   ]
  },
  {
   "cell_type": "markdown",
   "metadata": {},
   "source": [
    "#### **Étape 5.1 : Traiter les valeurs manquantes et abérrantes pour la colonne Name**"
   ]
  },
  {
   "cell_type": "code",
   "execution_count": 117,
   "metadata": {},
   "outputs": [
    {
     "name": "stdout",
     "output_type": "stream",
     "text": [
      "Nombre d'observations impactées par le traitement : 42\n",
      "Volume de données restantes dans le Dataframe : 323708\n"
     ]
    },
    {
     "data": {
      "text/html": [
       "<div>\n",
       "<style scoped>\n",
       "    .dataframe tbody tr th:only-of-type {\n",
       "        vertical-align: middle;\n",
       "    }\n",
       "\n",
       "    .dataframe tbody tr th {\n",
       "        vertical-align: top;\n",
       "    }\n",
       "\n",
       "    .dataframe thead th {\n",
       "        text-align: right;\n",
       "    }\n",
       "</style>\n",
       "<table border=\"1\" class=\"dataframe\">\n",
       "  <thead>\n",
       "    <tr style=\"text-align: right;\">\n",
       "      <th></th>\n",
       "      <th>ID</th>\n",
       "      <th>Name</th>\n",
       "      <th>Category</th>\n",
       "      <th>MainCategory</th>\n",
       "      <th>Currency</th>\n",
       "      <th>Deadline</th>\n",
       "      <th>Goal</th>\n",
       "      <th>Launched</th>\n",
       "      <th>Pledged</th>\n",
       "      <th>State</th>\n",
       "      <th>Backers</th>\n",
       "      <th>Country</th>\n",
       "    </tr>\n",
       "  </thead>\n",
       "  <tbody>\n",
       "    <tr>\n",
       "      <th>0</th>\n",
       "      <td>1000002330</td>\n",
       "      <td>the songs of adelaide abullah</td>\n",
       "      <td>Poetry</td>\n",
       "      <td>Publishing</td>\n",
       "      <td>GBP</td>\n",
       "      <td>2015-10-09 11:36:00</td>\n",
       "      <td>1000.0</td>\n",
       "      <td>2015-08-11 12:12:28</td>\n",
       "      <td>0.0</td>\n",
       "      <td>failed</td>\n",
       "      <td>0</td>\n",
       "      <td>GB</td>\n",
       "    </tr>\n",
       "  </tbody>\n",
       "</table>\n",
       "</div>"
      ],
      "text/plain": [
       "           ID                           Name Category MainCategory Currency  \\\n",
       "0  1000002330  the songs of adelaide abullah   Poetry   Publishing      GBP   \n",
       "\n",
       "             Deadline    Goal            Launched  Pledged   State  Backers  \\\n",
       "0 2015-10-09 11:36:00  1000.0 2015-08-11 12:12:28      0.0  failed        0   \n",
       "\n",
       "  Country  \n",
       "0      GB  "
      ]
     },
     "execution_count": 117,
     "metadata": {},
     "output_type": "execute_result"
    }
   ],
   "source": [
    "# Traitement des données manquantes et abérrantes pour la colonne Name\n",
    "\n",
    "'''\n",
    "NOTE : Comme nous avions uniquement 42 observations, qui n'ont pas de nom qui leur est attribué, nous pouvons supprimer celles-ci\n",
    "sans impacter la performance du modèle.\n",
    "'''\n",
    "\n",
    "# Indique combien d'observations sont impactées par le traitement.\n",
    "print(f\"Nombre d'observations impactées par le traitement : {len(df_clean_m[df_clean_m['Name'].isin(['',' '])])}\")\n",
    "\n",
    "# Supprime les données concernées\n",
    "df_clean_m = df_clean_m[~df_clean_m['Name'].isin(['',' '])]\n",
    "\n",
    "# Indique combien d'observations sont dans le Dataframe, après transformation.\n",
    "print(f\"Volume de données restantes dans le Dataframe : {len(df_clean_m)}\")\n",
    "\n",
    "df_clean_m.head(1)"
   ]
  },
  {
   "cell_type": "markdown",
   "metadata": {},
   "source": [
    "#### **Étape 5.2 : Traiter les valeurs manquantes et abérrantes pour la colonne Category**"
   ]
  },
  {
   "cell_type": "code",
   "execution_count": 118,
   "metadata": {},
   "outputs": [
    {
     "name": "stdout",
     "output_type": "stream",
     "text": [
      "Nombre d'observations impactées par le traitement : 86\n",
      "Volume de données restantes dans le Dataframe : 323622\n"
     ]
    },
    {
     "data": {
      "text/html": [
       "<div>\n",
       "<style scoped>\n",
       "    .dataframe tbody tr th:only-of-type {\n",
       "        vertical-align: middle;\n",
       "    }\n",
       "\n",
       "    .dataframe tbody tr th {\n",
       "        vertical-align: top;\n",
       "    }\n",
       "\n",
       "    .dataframe thead th {\n",
       "        text-align: right;\n",
       "    }\n",
       "</style>\n",
       "<table border=\"1\" class=\"dataframe\">\n",
       "  <thead>\n",
       "    <tr style=\"text-align: right;\">\n",
       "      <th></th>\n",
       "      <th>ID</th>\n",
       "      <th>Name</th>\n",
       "      <th>Category</th>\n",
       "      <th>MainCategory</th>\n",
       "      <th>Currency</th>\n",
       "      <th>Deadline</th>\n",
       "      <th>Goal</th>\n",
       "      <th>Launched</th>\n",
       "      <th>Pledged</th>\n",
       "      <th>State</th>\n",
       "      <th>Backers</th>\n",
       "      <th>Country</th>\n",
       "    </tr>\n",
       "  </thead>\n",
       "  <tbody>\n",
       "    <tr>\n",
       "      <th>0</th>\n",
       "      <td>1000002330</td>\n",
       "      <td>the songs of adelaide abullah</td>\n",
       "      <td>Poetry</td>\n",
       "      <td>Publishing</td>\n",
       "      <td>GBP</td>\n",
       "      <td>2015-10-09 11:36:00</td>\n",
       "      <td>1000.0</td>\n",
       "      <td>2015-08-11 12:12:28</td>\n",
       "      <td>0.0</td>\n",
       "      <td>failed</td>\n",
       "      <td>0</td>\n",
       "      <td>GB</td>\n",
       "    </tr>\n",
       "  </tbody>\n",
       "</table>\n",
       "</div>"
      ],
      "text/plain": [
       "           ID                           Name Category MainCategory Currency  \\\n",
       "0  1000002330  the songs of adelaide abullah   Poetry   Publishing      GBP   \n",
       "\n",
       "             Deadline    Goal            Launched  Pledged   State  Backers  \\\n",
       "0 2015-10-09 11:36:00  1000.0 2015-08-11 12:12:28      0.0  failed        0   \n",
       "\n",
       "  Country  \n",
       "0      GB  "
      ]
     },
     "execution_count": 118,
     "metadata": {},
     "output_type": "execute_result"
    }
   ],
   "source": [
    "# Traitement des données manquantes et abérrantes pour la colonne Category\n",
    "\n",
    "'''\n",
    "NOTE : Nous avions ici, 17 observations qui n'étaient pas classées dans des catégories admises. Nous pouvons également les supprimer.\n",
    "Une logique similaire est appliquée pour MainCategory.\n",
    "'''\n",
    "\n",
    "# Assigne le output de la fonction à deux variables qu'on peut utiliser pour l'analyse. \n",
    "group_count, indexes_to_remove = group_analysis(df_clean_m, 'Category', 1000, None)\n",
    "\n",
    "# Indique combien d'observations sont impactées par le traitement.\n",
    "print(f\"Nombre d'observations impactées par le traitement : {len(indexes_to_remove)}\")\n",
    "\n",
    "# Supprime les observations dont la variable Category n'est pas dans une catégorie admise.\n",
    "df_clean_m = df_clean_m.drop(indexes_to_remove)\n",
    "\n",
    "# Indique combien d'observations sont dans le Dataframe, après transformation.\n",
    "print(f\"Volume de données restantes dans le Dataframe : {len(df_clean_m)}\")\n",
    "\n",
    "df_clean_m.head(1)"
   ]
  },
  {
   "cell_type": "code",
   "execution_count": 119,
   "metadata": {},
   "outputs": [
    {
     "data": {
      "text/plain": [
       "Product Design    17499\n",
       "Music             16670\n",
       "Documentary       14918\n",
       "Food              14096\n",
       "Film & Video      14032\n",
       "                  ...  \n",
       "Photobooks         1210\n",
       "Plays              1149\n",
       "Periodicals        1148\n",
       "Digital Art        1123\n",
       "Horror             1036\n",
       "Name: Category, Length: 66, dtype: int64"
      ]
     },
     "execution_count": 119,
     "metadata": {},
     "output_type": "execute_result"
    }
   ],
   "source": [
    "# Représentation des catégories restantes dans le Dataframe\n",
    "df_clean_m['Category'].value_counts()"
   ]
  },
  {
   "cell_type": "markdown",
   "metadata": {},
   "source": [
    "#### **Étape 5.3 : Traiter les valeurs manquantes et abérrantes pour la colonne MainCategory**"
   ]
  },
  {
   "cell_type": "code",
   "execution_count": 120,
   "metadata": {},
   "outputs": [
    {
     "name": "stdout",
     "output_type": "stream",
     "text": [
      "Nombre d'observations impactées par le traitement : 0\n",
      "Volume de données restantes dans le Dataframe : 323622\n"
     ]
    },
    {
     "data": {
      "text/html": [
       "<div>\n",
       "<style scoped>\n",
       "    .dataframe tbody tr th:only-of-type {\n",
       "        vertical-align: middle;\n",
       "    }\n",
       "\n",
       "    .dataframe tbody tr th {\n",
       "        vertical-align: top;\n",
       "    }\n",
       "\n",
       "    .dataframe thead th {\n",
       "        text-align: right;\n",
       "    }\n",
       "</style>\n",
       "<table border=\"1\" class=\"dataframe\">\n",
       "  <thead>\n",
       "    <tr style=\"text-align: right;\">\n",
       "      <th></th>\n",
       "      <th>ID</th>\n",
       "      <th>Name</th>\n",
       "      <th>Category</th>\n",
       "      <th>MainCategory</th>\n",
       "      <th>Currency</th>\n",
       "      <th>Deadline</th>\n",
       "      <th>Goal</th>\n",
       "      <th>Launched</th>\n",
       "      <th>Pledged</th>\n",
       "      <th>State</th>\n",
       "      <th>Backers</th>\n",
       "      <th>Country</th>\n",
       "    </tr>\n",
       "  </thead>\n",
       "  <tbody>\n",
       "    <tr>\n",
       "      <th>0</th>\n",
       "      <td>1000002330</td>\n",
       "      <td>the songs of adelaide abullah</td>\n",
       "      <td>Poetry</td>\n",
       "      <td>Publishing</td>\n",
       "      <td>GBP</td>\n",
       "      <td>2015-10-09 11:36:00</td>\n",
       "      <td>1000.0</td>\n",
       "      <td>2015-08-11 12:12:28</td>\n",
       "      <td>0.0</td>\n",
       "      <td>failed</td>\n",
       "      <td>0</td>\n",
       "      <td>GB</td>\n",
       "    </tr>\n",
       "  </tbody>\n",
       "</table>\n",
       "</div>"
      ],
      "text/plain": [
       "           ID                           Name Category MainCategory Currency  \\\n",
       "0  1000002330  the songs of adelaide abullah   Poetry   Publishing      GBP   \n",
       "\n",
       "             Deadline    Goal            Launched  Pledged   State  Backers  \\\n",
       "0 2015-10-09 11:36:00  1000.0 2015-08-11 12:12:28      0.0  failed        0   \n",
       "\n",
       "  Country  \n",
       "0      GB  "
      ]
     },
     "execution_count": 120,
     "metadata": {},
     "output_type": "execute_result"
    }
   ],
   "source": [
    "# Traitement des données manquantes et abérrantes pour la colonne MainCategory\n",
    "\n",
    "# Assigne le output de la fonction à deux variables qu'on peut utiliser pour l'analyse. \n",
    "group_count, indexes_to_remove = group_analysis(df_clean_m, 'MainCategory', 100, None)\n",
    "\n",
    "# Indique combien d'observations sont impactées par le traitement.\n",
    "print(f\"Nombre d'observations impactées par le traitement : {len(indexes_to_remove)}\")\n",
    "\n",
    "# Supprime les observations dont la variable MainCategory n'est pas dans une catégorie principale admise.\n",
    "df_clean_m = df_clean_m.drop(indexes_to_remove)\n",
    "\n",
    "# Indique combien d'observations sont dans le Dataframe, après transformation.\n",
    "print(f\"Volume de données restantes dans le Dataframe : {len(df_clean_m)}\")\n",
    "\n",
    "df_clean_m.head(1)"
   ]
  },
  {
   "cell_type": "code",
   "execution_count": 121,
   "metadata": {},
   "outputs": [
    {
     "data": {
      "text/plain": [
       "Film & Video    57734\n",
       "Music           46785\n",
       "Publishing      34332\n",
       "Games           28037\n",
       "Technology      26146\n",
       "Art             24008\n",
       "Design          23892\n",
       "Food            21236\n",
       "Fashion         18405\n",
       "Theater          9973\n",
       "Photography      9680\n",
       "Comics           8755\n",
       "Crafts           7187\n",
       "Journalism       4077\n",
       "Dance            3375\n",
       "Name: MainCategory, dtype: int64"
      ]
     },
     "execution_count": 121,
     "metadata": {},
     "output_type": "execute_result"
    }
   ],
   "source": [
    "# Représentation des catégories restantes dans le Dataframe\n",
    "df_clean_m['MainCategory'].value_counts()"
   ]
  },
  {
   "cell_type": "markdown",
   "metadata": {},
   "source": [
    "#### **Étape 5.4 : Traiter les valeurs manquantes et abérrantes pour la colonne Currency**"
   ]
  },
  {
   "cell_type": "code",
   "execution_count": 122,
   "metadata": {},
   "outputs": [
    {
     "name": "stdout",
     "output_type": "stream",
     "text": [
      "Nombre d'observations impactées par le traitement : 0\n",
      "Volume de données restantes dans le Dataframe : 323622\n"
     ]
    },
    {
     "data": {
      "text/html": [
       "<div>\n",
       "<style scoped>\n",
       "    .dataframe tbody tr th:only-of-type {\n",
       "        vertical-align: middle;\n",
       "    }\n",
       "\n",
       "    .dataframe tbody tr th {\n",
       "        vertical-align: top;\n",
       "    }\n",
       "\n",
       "    .dataframe thead th {\n",
       "        text-align: right;\n",
       "    }\n",
       "</style>\n",
       "<table border=\"1\" class=\"dataframe\">\n",
       "  <thead>\n",
       "    <tr style=\"text-align: right;\">\n",
       "      <th></th>\n",
       "      <th>ID</th>\n",
       "      <th>Name</th>\n",
       "      <th>Category</th>\n",
       "      <th>MainCategory</th>\n",
       "      <th>Currency</th>\n",
       "      <th>Deadline</th>\n",
       "      <th>Goal</th>\n",
       "      <th>Launched</th>\n",
       "      <th>Pledged</th>\n",
       "      <th>State</th>\n",
       "      <th>Backers</th>\n",
       "      <th>Country</th>\n",
       "    </tr>\n",
       "  </thead>\n",
       "  <tbody>\n",
       "    <tr>\n",
       "      <th>0</th>\n",
       "      <td>1000002330</td>\n",
       "      <td>the songs of adelaide abullah</td>\n",
       "      <td>Poetry</td>\n",
       "      <td>Publishing</td>\n",
       "      <td>GBP</td>\n",
       "      <td>2015-10-09 11:36:00</td>\n",
       "      <td>1000.0</td>\n",
       "      <td>2015-08-11 12:12:28</td>\n",
       "      <td>0.0</td>\n",
       "      <td>failed</td>\n",
       "      <td>0</td>\n",
       "      <td>GB</td>\n",
       "    </tr>\n",
       "  </tbody>\n",
       "</table>\n",
       "</div>"
      ],
      "text/plain": [
       "           ID                           Name Category MainCategory Currency  \\\n",
       "0  1000002330  the songs of adelaide abullah   Poetry   Publishing      GBP   \n",
       "\n",
       "             Deadline    Goal            Launched  Pledged   State  Backers  \\\n",
       "0 2015-10-09 11:36:00  1000.0 2015-08-11 12:12:28      0.0  failed        0   \n",
       "\n",
       "  Country  \n",
       "0      GB  "
      ]
     },
     "execution_count": 122,
     "metadata": {},
     "output_type": "execute_result"
    }
   ],
   "source": [
    "# Traitement des données manquantes et abérrantes pour la colonne Currency\n",
    "\n",
    "# Crée une liste de devises acceptées, à partir des données dans group_count.\n",
    "list_currencies = ('USD','GBP','CAD','EUR','AUD','SEK','NZD','DKK','NOK','CHF','MXN','SGD','HKD')\n",
    "\n",
    "# Assigne le output de la fonction group_analysis à deux variables qu'on peut utiliser savoir quels index n'ont pas les devises permises. \n",
    "group_count, indexes_to_remove = group_analysis(df_clean_m, 'Currency', 1, list_currencies)\n",
    "\n",
    "# Indique combien d'observations sont impactées par le traitement.\n",
    "print(f\"Nombre d'observations impactées par le traitement : {len(indexes_to_remove)}\")\n",
    "\n",
    "# Supprime les observations dont la variable Currency n'est pas dans une catégorie principale admise.\n",
    "df_clean_m = df_clean_m.drop(indexes_to_remove)\n",
    "\n",
    "# Indique combien d'observations sont dans le Dataframe, après transformation.\n",
    "print(f\"Volume de données restantes dans le Dataframe : {len(df_clean_m)}\")\n",
    "\n",
    "df_clean_m.head(1)"
   ]
  },
  {
   "cell_type": "code",
   "execution_count": 123,
   "metadata": {},
   "outputs": [
    {
     "data": {
      "text/plain": [
       "USD    260719\n",
       "GBP     28018\n",
       "CAD     12208\n",
       "EUR     11562\n",
       "AUD      6360\n",
       "SEK      1301\n",
       "NZD      1164\n",
       "DKK       841\n",
       "NOK       540\n",
       "CHF       478\n",
       "MXN       214\n",
       "SGD       120\n",
       "HKD        97\n",
       "Name: Currency, dtype: int64"
      ]
     },
     "execution_count": 123,
     "metadata": {},
     "output_type": "execute_result"
    }
   ],
   "source": [
    "# Représentation des catégories restantes dans le Dataframe\n",
    "df_clean_m['Currency'].value_counts()"
   ]
  },
  {
   "cell_type": "markdown",
   "metadata": {},
   "source": [
    "#### **Étape 5.5 : Traiter les valeurs manquantes et abérrantes pour la colonne Deadline**"
   ]
  },
  {
   "cell_type": "code",
   "execution_count": 124,
   "metadata": {},
   "outputs": [
    {
     "name": "stdout",
     "output_type": "stream",
     "text": [
      "Nombre d'observations impactées par le traitement : 0\n",
      "Volume de données restantes dans le Dataframe : 323622\n"
     ]
    },
    {
     "data": {
      "text/html": [
       "<div>\n",
       "<style scoped>\n",
       "    .dataframe tbody tr th:only-of-type {\n",
       "        vertical-align: middle;\n",
       "    }\n",
       "\n",
       "    .dataframe tbody tr th {\n",
       "        vertical-align: top;\n",
       "    }\n",
       "\n",
       "    .dataframe thead th {\n",
       "        text-align: right;\n",
       "    }\n",
       "</style>\n",
       "<table border=\"1\" class=\"dataframe\">\n",
       "  <thead>\n",
       "    <tr style=\"text-align: right;\">\n",
       "      <th></th>\n",
       "      <th>ID</th>\n",
       "      <th>Name</th>\n",
       "      <th>Category</th>\n",
       "      <th>MainCategory</th>\n",
       "      <th>Currency</th>\n",
       "      <th>Deadline</th>\n",
       "      <th>Goal</th>\n",
       "      <th>Launched</th>\n",
       "      <th>Pledged</th>\n",
       "      <th>State</th>\n",
       "      <th>Backers</th>\n",
       "      <th>Country</th>\n",
       "    </tr>\n",
       "  </thead>\n",
       "  <tbody>\n",
       "    <tr>\n",
       "      <th>0</th>\n",
       "      <td>1000002330</td>\n",
       "      <td>the songs of adelaide abullah</td>\n",
       "      <td>Poetry</td>\n",
       "      <td>Publishing</td>\n",
       "      <td>GBP</td>\n",
       "      <td>2015-10-09 11:36:00</td>\n",
       "      <td>1000.0</td>\n",
       "      <td>2015-08-11 12:12:28</td>\n",
       "      <td>0.0</td>\n",
       "      <td>failed</td>\n",
       "      <td>0</td>\n",
       "      <td>GB</td>\n",
       "    </tr>\n",
       "  </tbody>\n",
       "</table>\n",
       "</div>"
      ],
      "text/plain": [
       "           ID                           Name Category MainCategory Currency  \\\n",
       "0  1000002330  the songs of adelaide abullah   Poetry   Publishing      GBP   \n",
       "\n",
       "             Deadline    Goal            Launched  Pledged   State  Backers  \\\n",
       "0 2015-10-09 11:36:00  1000.0 2015-08-11 12:12:28      0.0  failed        0   \n",
       "\n",
       "  Country  \n",
       "0      GB  "
      ]
     },
     "execution_count": 124,
     "metadata": {},
     "output_type": "execute_result"
    }
   ],
   "source": [
    "# Traitement des données manquantes et abérrante pour la colonne Deadline.\n",
    "\n",
    "'''\n",
    "NOTE : Comme nous avions uniquement 12 observations, qui n'ont pas de Deadline, nous les supprimons.\n",
    "'''\n",
    "\n",
    "# Indique combien d'observations sont impactées par le traitement.\n",
    "print(f\"Nombre d'observations impactées par le traitement : {len(df_clean_m[df_clean_m['Deadline']==np.nan])}\")\n",
    "\n",
    "# Supprime les observations concernées. \n",
    "df_clean_m = df_clean_m[~df_clean_m['Deadline'].isna()]\n",
    "\n",
    "# Indique combien d'observations sont dans le Dataframe, après transformation.\n",
    "print(f\"Volume de données restantes dans le Dataframe : {len(df_clean_m)}\")\n",
    "\n",
    "df_clean_m.head(1)"
   ]
  },
  {
   "cell_type": "code",
   "execution_count": 125,
   "metadata": {},
   "outputs": [
    {
     "name": "stdout",
     "output_type": "stream",
     "text": [
      "La date la plus récente de Deadline : 2017-02-04 08:54:55\n",
      "La date la plus ancienne de Deadline : 2009-05-03 08:59:59\n"
     ]
    }
   ],
   "source": [
    "''' \n",
    "NOTE : Dans le cas des dates, il est important de vérifier les minimum et les maximum, afin de comprendre l'étendu de la période \n",
    "temporelle et identifier les outliers. Après vérification sur Internet, Kickstarter a été fondé le 28 avril 2009. Alors, rien \n",
    "d'inhabituel ici, on peut poursuivre.\n",
    "'''\n",
    "\n",
    "print(f\"La date la plus récente de Deadline : {df_clean_m['Deadline'].max()}\")\n",
    "print(f\"La date la plus ancienne de Deadline : {df_clean_m['Deadline'].min()}\")"
   ]
  },
  {
   "cell_type": "markdown",
   "metadata": {},
   "source": [
    "#### **Étape 5.6 : Traiter les valeurs manquantes et abérrantes pour la colonne Goal**"
   ]
  },
  {
   "cell_type": "code",
   "execution_count": 126,
   "metadata": {},
   "outputs": [
    {
     "data": {
      "text/plain": [
       "count      323622.00\n",
       "mean        47124.21\n",
       "std       1138734.65\n",
       "min             0.01\n",
       "5%            400.00\n",
       "10%           700.00\n",
       "15%          1000.00\n",
       "20%          1500.00\n",
       "25%          2000.00\n",
       "50%          5000.00\n",
       "75%         15000.00\n",
       "80%         20000.00\n",
       "85%         30000.00\n",
       "90%         50000.00\n",
       "95%         85000.00\n",
       "99%        355943.68\n",
       "max     100000000.00\n",
       "Name: Goal, dtype: float64"
      ]
     },
     "execution_count": 126,
     "metadata": {},
     "output_type": "execute_result"
    }
   ],
   "source": [
    "# Traitement des données manquantes et abérrantes pour la colonne Goal.\n",
    "\n",
    "# Change le display format pour que le output de describe() soit plus interprétable.\n",
    "pd.set_option('display.float_format', lambda x: '%.2f' % x)\n",
    "\n",
    "# Définir des percentiles personnalisés qui peuvent être utiles dans la gestion de valeurs abérrantes. \n",
    "custom_percentiles = [0.05, 0.10, 0.15, 0.20, 0.25, 0.5, 0.75, 0.80, 0.85, 0.90, 0.95, 0.99]\n",
    "\n",
    "# Présente les statistiques descriptives de la colonne Goal.\n",
    "stats_desc = df_clean_m['Goal'].describe(percentiles=custom_percentiles)\n",
    "stats_desc"
   ]
  },
  {
   "cell_type": "code",
   "execution_count": 127,
   "metadata": {},
   "outputs": [],
   "source": [
    "'''\n",
    "NOTE : En analysant les statistiques descriptives, ainsi que le boxplot ci-dessous, nous pouvons comprendre que les données de la \n",
    "colonne Goal contiennent des données abérrantes. Nous allons les supprimer, tout en faisant attention de ne pas impacter considérablement\n",
    "la volumétrie. \n",
    "'''\n",
    "\n",
    "# Importe les librairies de visualisation des données. \n",
    "import matplotlib.pyplot as plt\n",
    "import seaborn as sns\n",
    "\n",
    "# Fonction pour visualiser les boxplot.\n",
    "def boxplot_num(data, xaxis_title):\n",
    "    # Instaure la taille du boxplot\n",
    "    plt.figure(figsize=(10, 6)) \n",
    "\n",
    "    # Éléments de personnalisation du graphique\n",
    "    sns.boxplot(x=data, color='skyblue', width=0.5) \n",
    "    plt.xlabel(xaxis_title) \n",
    "    plt.title(f'Boxplot - Distribution de {xaxis_title}') \n",
    "    plt.xticks(rotation=45)  \n",
    "\n",
    "    # Illustre le boxplot\n",
    "    plt.tight_layout()\n",
    "    plt.show()"
   ]
  },
  {
   "cell_type": "code",
   "execution_count": 128,
   "metadata": {},
   "outputs": [
    {
     "data": {
      "image/png": "[encoded data removed]",
      "text/plain": [
       "<Figure size 1000x600 with 1 Axes>"
      ]
     },
     "metadata": {},
     "output_type": "display_data"
    }
   ],
   "source": [
    "# Représentation du boxplot avant les transformations. \n",
    "data = df_clean_m['Goal']\n",
    "boxplot_num(data, 'Goal')"
   ]
  },
  {
   "cell_type": "code",
   "execution_count": 129,
   "metadata": {},
   "outputs": [
    {
     "name": "stdout",
     "output_type": "stream",
     "text": [
      "Nombre d'éléments à supprimer au percentile 75% : 91876\n",
      "Nombre d'éléments à supprimer au percentile 80% : 74002\n",
      "Nombre d'éléments à supprimer au percentile 85% : 49591\n",
      "Nombre d'éléments à supprimer au percentile 90% : 32532\n",
      "Nombre d'éléments à supprimer au percentile 95% : 16328\n",
      "Nombre d'éléments à supprimer au percentile 99% : 3237\n"
     ]
    }
   ],
   "source": [
    "# Fonction qui output le nombre d'observations qui seront impactées par une suppression au percentile i. \n",
    "def nb_rows_to_delete(column):\n",
    "    for i in ['75%','80%','85%','90%','95%','99%']:\n",
    "        print(f\"Nombre d'éléments à supprimer au percentile {i} : {len(df_clean_m[df_clean_m[column] >= stats_desc[i]])}\")\n",
    "    \n",
    "# Appel de la fonction pour la colonne Goal. \n",
    "nb_rows_to_delete('Goal')"
   ]
  },
  {
   "cell_type": "code",
   "execution_count": 130,
   "metadata": {},
   "outputs": [
    {
     "name": "stdout",
     "output_type": "stream",
     "text": [
      "Volume de données restantes dans le Dataframe : 320385\n"
     ]
    },
    {
     "data": {
      "text/html": [
       "<div>\n",
       "<style scoped>\n",
       "    .dataframe tbody tr th:only-of-type {\n",
       "        vertical-align: middle;\n",
       "    }\n",
       "\n",
       "    .dataframe tbody tr th {\n",
       "        vertical-align: top;\n",
       "    }\n",
       "\n",
       "    .dataframe thead th {\n",
       "        text-align: right;\n",
       "    }\n",
       "</style>\n",
       "<table border=\"1\" class=\"dataframe\">\n",
       "  <thead>\n",
       "    <tr style=\"text-align: right;\">\n",
       "      <th></th>\n",
       "      <th>ID</th>\n",
       "      <th>Name</th>\n",
       "      <th>Category</th>\n",
       "      <th>MainCategory</th>\n",
       "      <th>Currency</th>\n",
       "      <th>Deadline</th>\n",
       "      <th>Goal</th>\n",
       "      <th>Launched</th>\n",
       "      <th>Pledged</th>\n",
       "      <th>State</th>\n",
       "      <th>Backers</th>\n",
       "      <th>Country</th>\n",
       "    </tr>\n",
       "  </thead>\n",
       "  <tbody>\n",
       "    <tr>\n",
       "      <th>0</th>\n",
       "      <td>1000002330</td>\n",
       "      <td>the songs of adelaide abullah</td>\n",
       "      <td>Poetry</td>\n",
       "      <td>Publishing</td>\n",
       "      <td>GBP</td>\n",
       "      <td>2015-10-09 11:36:00</td>\n",
       "      <td>1000.00</td>\n",
       "      <td>2015-08-11 12:12:28</td>\n",
       "      <td>0.00</td>\n",
       "      <td>failed</td>\n",
       "      <td>0</td>\n",
       "      <td>GB</td>\n",
       "    </tr>\n",
       "  </tbody>\n",
       "</table>\n",
       "</div>"
      ],
      "text/plain": [
       "           ID                           Name Category MainCategory Currency  \\\n",
       "0  1000002330  the songs of adelaide abullah   Poetry   Publishing      GBP   \n",
       "\n",
       "             Deadline    Goal            Launched  Pledged   State  Backers  \\\n",
       "0 2015-10-09 11:36:00 1000.00 2015-08-11 12:12:28     0.00  failed        0   \n",
       "\n",
       "  Country  \n",
       "0      GB  "
      ]
     },
     "execution_count": 130,
     "metadata": {},
     "output_type": "execute_result"
    }
   ],
   "source": [
    "# Suppression des outliers qui sont hors du percentile sélectionné.\n",
    "df_clean_m = df_clean_m[df_clean_m['Goal'] <= stats_desc['99%']]\n",
    "\n",
    "# Indique combien d'observations sont dans le Dataframe, après transformation.\n",
    "print(f\"Volume de données restantes dans le Dataframe : {len(df_clean_m)}\")\n",
    "\n",
    "df_clean_m.head(1)"
   ]
  },
  {
   "cell_type": "code",
   "execution_count": 131,
   "metadata": {},
   "outputs": [
    {
     "data": {
      "image/png": "[encoded data removed]",
      "text/plain": [
       "<Figure size 1000x600 with 1 Axes>"
      ]
     },
     "metadata": {},
     "output_type": "display_data"
    }
   ],
   "source": [
    "# Représentation du boxplot suivant les transformations. \n",
    "data = df_clean_m['Goal']\n",
    "boxplot_num(data, 'Goal')"
   ]
  },
  {
   "cell_type": "code",
   "execution_count": 132,
   "metadata": {},
   "outputs": [
    {
     "data": {
      "image/png": "[encoded data removed]",
      "text/plain": [
       "<Figure size 1000x600 with 1 Axes>"
      ]
     },
     "metadata": {},
     "output_type": "display_data"
    }
   ],
   "source": [
    "'''\n",
    "NOTE : En analysant les données restantes, on remarque que même après les transformations, les données contiennent beaucoup de valeurs\n",
    "abérrante, nous les gardons, mais allons considérer cela lorsqu'il sera temps de sélectionner un modèle ou faire du feature engineering.\n",
    "Par exemple, en appliquant une transformation logarithmique à cette colonne, on pourrait réduire l'influence des valeurs abérrantes.\n",
    "'''\n",
    "\n",
    "# Représentation du boxplot suivant les transformations (Log de la colonne Goal)\n",
    "data = np.log(df_clean_m['Goal'])\n",
    "boxplot_num(data, 'Log(Goal)')"
   ]
  },
  {
   "cell_type": "code",
   "execution_count": 133,
   "metadata": {},
   "outputs": [
    {
     "data": {
      "image/png": "[encoded data removed]",
      "text/plain": [
       "<Figure size 1000x600 with 1 Axes>"
      ]
     },
     "metadata": {},
     "output_type": "display_data"
    }
   ],
   "source": [
    "# Représentation du boxplot suivant les transformations (SQRT de la colonne Goal)\n",
    "data = np.sqrt(df_clean_m['Goal'])\n",
    "boxplot_num(data, 'SQRT(Goal)')"
   ]
  },
  {
   "cell_type": "markdown",
   "metadata": {},
   "source": [
    "#### **Étape 5.7 : Traiter les valeurs manquantes et abérrantes pour la colonne Launched**"
   ]
  },
  {
   "cell_type": "code",
   "execution_count": 134,
   "metadata": {},
   "outputs": [
    {
     "name": "stdout",
     "output_type": "stream",
     "text": [
      "Nombre d'observations impactées par le traitement : 0\n",
      "Volume de données restantes dans le Dataframe : 320385\n"
     ]
    },
    {
     "data": {
      "text/html": [
       "<div>\n",
       "<style scoped>\n",
       "    .dataframe tbody tr th:only-of-type {\n",
       "        vertical-align: middle;\n",
       "    }\n",
       "\n",
       "    .dataframe tbody tr th {\n",
       "        vertical-align: top;\n",
       "    }\n",
       "\n",
       "    .dataframe thead th {\n",
       "        text-align: right;\n",
       "    }\n",
       "</style>\n",
       "<table border=\"1\" class=\"dataframe\">\n",
       "  <thead>\n",
       "    <tr style=\"text-align: right;\">\n",
       "      <th></th>\n",
       "      <th>ID</th>\n",
       "      <th>Name</th>\n",
       "      <th>Category</th>\n",
       "      <th>MainCategory</th>\n",
       "      <th>Currency</th>\n",
       "      <th>Deadline</th>\n",
       "      <th>Goal</th>\n",
       "      <th>Launched</th>\n",
       "      <th>Pledged</th>\n",
       "      <th>State</th>\n",
       "      <th>Backers</th>\n",
       "      <th>Country</th>\n",
       "    </tr>\n",
       "  </thead>\n",
       "  <tbody>\n",
       "    <tr>\n",
       "      <th>0</th>\n",
       "      <td>1000002330</td>\n",
       "      <td>the songs of adelaide abullah</td>\n",
       "      <td>Poetry</td>\n",
       "      <td>Publishing</td>\n",
       "      <td>GBP</td>\n",
       "      <td>2015-10-09 11:36:00</td>\n",
       "      <td>1000.00</td>\n",
       "      <td>2015-08-11 12:12:28</td>\n",
       "      <td>0.00</td>\n",
       "      <td>failed</td>\n",
       "      <td>0</td>\n",
       "      <td>GB</td>\n",
       "    </tr>\n",
       "  </tbody>\n",
       "</table>\n",
       "</div>"
      ],
      "text/plain": [
       "           ID                           Name Category MainCategory Currency  \\\n",
       "0  1000002330  the songs of adelaide abullah   Poetry   Publishing      GBP   \n",
       "\n",
       "             Deadline    Goal            Launched  Pledged   State  Backers  \\\n",
       "0 2015-10-09 11:36:00 1000.00 2015-08-11 12:12:28     0.00  failed        0   \n",
       "\n",
       "  Country  \n",
       "0      GB  "
      ]
     },
     "execution_count": 134,
     "metadata": {},
     "output_type": "execute_result"
    }
   ],
   "source": [
    "# Traitement des données manquantes et abérrante pour la colonne Launched.\n",
    "\n",
    "'''\n",
    "NOTE : Comme nous avions uniquement 12 observations, qui n'ont pas de Launched date, nous les supprimons.\n",
    "'''\n",
    "\n",
    "# Indique combien d'observations sont impactées par le traitement.\n",
    "print(f\"Nombre d'observations impactées par le traitement : {len(df_clean_m[df_clean_m['Launched']==np.nan])}\")\n",
    "\n",
    "# Supprime les observations concernées. \n",
    "df_clean_m = df_clean_m[~df_clean_m['Launched'].isna()]\n",
    "\n",
    "# Indique combien d'observations sont dans le Dataframe, après transformation.\n",
    "print(f\"Volume de données restantes dans le Dataframe : {len(df_clean_m)}\")\n",
    "\n",
    "df_clean_m.head(1)"
   ]
  },
  {
   "cell_type": "code",
   "execution_count": 135,
   "metadata": {},
   "outputs": [
    {
     "name": "stdout",
     "output_type": "stream",
     "text": [
      "La date la plus récente de Launched : 2016-12-06 10:18:31\n",
      "La date la plus ancienne de Launched : 1970-01-01 01:00:00\n"
     ]
    }
   ],
   "source": [
    "# On vérifie les valeurs les plus récentes et anciennes de Launched. On remarque des dates en 1970, qui sont abbérantes. \n",
    "\n",
    "print(f\"La date la plus récente de Launched : {df_clean_m['Launched'].max()}\")\n",
    "print(f\"La date la plus ancienne de Launched : {df_clean_m['Launched'].min()}\")"
   ]
  },
  {
   "cell_type": "code",
   "execution_count": 136,
   "metadata": {},
   "outputs": [
    {
     "name": "stdout",
     "output_type": "stream",
     "text": [
      "Nombre d'observations impactées par le traitement : 12\n",
      "Volume de données restantes dans le Dataframe : 320373\n"
     ]
    },
    {
     "data": {
      "text/html": [
       "<div>\n",
       "<style scoped>\n",
       "    .dataframe tbody tr th:only-of-type {\n",
       "        vertical-align: middle;\n",
       "    }\n",
       "\n",
       "    .dataframe tbody tr th {\n",
       "        vertical-align: top;\n",
       "    }\n",
       "\n",
       "    .dataframe thead th {\n",
       "        text-align: right;\n",
       "    }\n",
       "</style>\n",
       "<table border=\"1\" class=\"dataframe\">\n",
       "  <thead>\n",
       "    <tr style=\"text-align: right;\">\n",
       "      <th></th>\n",
       "      <th>ID</th>\n",
       "      <th>Name</th>\n",
       "      <th>Category</th>\n",
       "      <th>MainCategory</th>\n",
       "      <th>Currency</th>\n",
       "      <th>Deadline</th>\n",
       "      <th>Goal</th>\n",
       "      <th>Launched</th>\n",
       "      <th>Pledged</th>\n",
       "      <th>State</th>\n",
       "      <th>Backers</th>\n",
       "      <th>Country</th>\n",
       "    </tr>\n",
       "  </thead>\n",
       "  <tbody>\n",
       "    <tr>\n",
       "      <th>0</th>\n",
       "      <td>1000002330</td>\n",
       "      <td>the songs of adelaide abullah</td>\n",
       "      <td>Poetry</td>\n",
       "      <td>Publishing</td>\n",
       "      <td>GBP</td>\n",
       "      <td>2015-10-09 11:36:00</td>\n",
       "      <td>1000.00</td>\n",
       "      <td>2015-08-11 12:12:28</td>\n",
       "      <td>0.00</td>\n",
       "      <td>failed</td>\n",
       "      <td>0</td>\n",
       "      <td>GB</td>\n",
       "    </tr>\n",
       "  </tbody>\n",
       "</table>\n",
       "</div>"
      ],
      "text/plain": [
       "           ID                           Name Category MainCategory Currency  \\\n",
       "0  1000002330  the songs of adelaide abullah   Poetry   Publishing      GBP   \n",
       "\n",
       "             Deadline    Goal            Launched  Pledged   State  Backers  \\\n",
       "0 2015-10-09 11:36:00 1000.00 2015-08-11 12:12:28     0.00  failed        0   \n",
       "\n",
       "  Country  \n",
       "0      GB  "
      ]
     },
     "execution_count": 136,
     "metadata": {},
     "output_type": "execute_result"
    }
   ],
   "source": [
    "# Sachant que Kickstarter a été fondé le 28 avril 2009, toutes les dates avant ça devraient être traitées.\n",
    "\n",
    "# Indique combien d'observations sont impactées par le traitement.\n",
    "print(f\"Nombre d'observations impactées par le traitement : {len(df_clean_m[df_clean_m['Launched'] <= '2009-04-28'])}\")\n",
    "\n",
    "# Supprime les observations concernées. \n",
    "df_clean_m = df_clean_m[df_clean_m['Launched'] >= '2009-04-28']\n",
    "\n",
    "# Indique combien d'observations sont dans le Dataframe, après transformation.\n",
    "print(f\"Volume de données restantes dans le Dataframe : {len(df_clean_m)}\")\n",
    "\n",
    "df_clean_m.head(1)"
   ]
  },
  {
   "cell_type": "code",
   "execution_count": 137,
   "metadata": {},
   "outputs": [
    {
     "data": {
      "text/html": [
       "<div>\n",
       "<style scoped>\n",
       "    .dataframe tbody tr th:only-of-type {\n",
       "        vertical-align: middle;\n",
       "    }\n",
       "\n",
       "    .dataframe tbody tr th {\n",
       "        vertical-align: top;\n",
       "    }\n",
       "\n",
       "    .dataframe thead th {\n",
       "        text-align: right;\n",
       "    }\n",
       "</style>\n",
       "<table border=\"1\" class=\"dataframe\">\n",
       "  <thead>\n",
       "    <tr style=\"text-align: right;\">\n",
       "      <th></th>\n",
       "      <th>ID</th>\n",
       "      <th>Name</th>\n",
       "      <th>Category</th>\n",
       "      <th>MainCategory</th>\n",
       "      <th>Currency</th>\n",
       "      <th>Deadline</th>\n",
       "      <th>Goal</th>\n",
       "      <th>Launched</th>\n",
       "      <th>Pledged</th>\n",
       "      <th>State</th>\n",
       "      <th>Backers</th>\n",
       "      <th>Country</th>\n",
       "    </tr>\n",
       "  </thead>\n",
       "  <tbody>\n",
       "  </tbody>\n",
       "</table>\n",
       "</div>"
      ],
      "text/plain": [
       "Empty DataFrame\n",
       "Columns: [ID, Name, Category, MainCategory, Currency, Deadline, Goal, Launched, Pledged, State, Backers, Country]\n",
       "Index: []"
      ]
     },
     "execution_count": 137,
     "metadata": {},
     "output_type": "execute_result"
    }
   ],
   "source": [
    "# Vérifie que toute les Launched dates sont après les Deadline dates.\n",
    "df_clean_m[df_clean_m['Launched'] >= df_clean_m['Deadline']]"
   ]
  },
  {
   "cell_type": "markdown",
   "metadata": {},
   "source": [
    "#### **Étape 5.8 : Traiter les valeurs manquantes et abérrantes pour la colonne Pledged**"
   ]
  },
  {
   "cell_type": "code",
   "execution_count": 138,
   "metadata": {},
   "outputs": [
    {
     "data": {
      "text/plain": [
       "count     320373.00\n",
       "mean        8087.12\n",
       "std        68534.40\n",
       "min            0.00\n",
       "5%             0.00\n",
       "10%            0.00\n",
       "15%            1.00\n",
       "20%           10.00\n",
       "25%           30.00\n",
       "50%          621.00\n",
       "75%         3962.00\n",
       "80%         5512.33\n",
       "85%         8147.00\n",
       "90%        13000.00\n",
       "95%        26464.00\n",
       "99%       111423.84\n",
       "max     13285226.36\n",
       "Name: Pledged, dtype: float64"
      ]
     },
     "execution_count": 138,
     "metadata": {},
     "output_type": "execute_result"
    }
   ],
   "source": [
    "# Traitement des données manquantes et abérrantes pour la colonne Pledged.\n",
    "\n",
    "# Présente les statistiques descriptives de la colonne Goal.\n",
    "stats_desc = df_clean_m['Pledged'].describe(percentiles=custom_percentiles)\n",
    "stats_desc"
   ]
  },
  {
   "cell_type": "code",
   "execution_count": 139,
   "metadata": {},
   "outputs": [
    {
     "data": {
      "image/png": "[encoded data removed]",
      "text/plain": [
       "<Figure size 1000x600 with 1 Axes>"
      ]
     },
     "metadata": {},
     "output_type": "display_data"
    }
   ],
   "source": [
    "# Représentation du boxplot avant les transformations. \n",
    "data = df_clean_m['Pledged']\n",
    "boxplot_num(data, 'Pledged')"
   ]
  },
  {
   "cell_type": "code",
   "execution_count": 140,
   "metadata": {},
   "outputs": [
    {
     "name": "stdout",
     "output_type": "stream",
     "text": [
      "Nombre d'éléments à supprimer au percentile 75% : 80096\n",
      "Nombre d'éléments à supprimer au percentile 80% : 64075\n",
      "Nombre d'éléments à supprimer au percentile 85% : 48060\n",
      "Nombre d'éléments à supprimer au percentile 90% : 32039\n",
      "Nombre d'éléments à supprimer au percentile 95% : 16022\n",
      "Nombre d'éléments à supprimer au percentile 99% : 3204\n"
     ]
    }
   ],
   "source": [
    "# Appel de la fonction pour la colonne Pledged. \n",
    "nb_rows_to_delete('Pledged')"
   ]
  },
  {
   "cell_type": "code",
   "execution_count": 141,
   "metadata": {},
   "outputs": [
    {
     "name": "stdout",
     "output_type": "stream",
     "text": [
      "Volume de données restantes dans le Dataframe : 317169\n"
     ]
    },
    {
     "data": {
      "text/html": [
       "<div>\n",
       "<style scoped>\n",
       "    .dataframe tbody tr th:only-of-type {\n",
       "        vertical-align: middle;\n",
       "    }\n",
       "\n",
       "    .dataframe tbody tr th {\n",
       "        vertical-align: top;\n",
       "    }\n",
       "\n",
       "    .dataframe thead th {\n",
       "        text-align: right;\n",
       "    }\n",
       "</style>\n",
       "<table border=\"1\" class=\"dataframe\">\n",
       "  <thead>\n",
       "    <tr style=\"text-align: right;\">\n",
       "      <th></th>\n",
       "      <th>ID</th>\n",
       "      <th>Name</th>\n",
       "      <th>Category</th>\n",
       "      <th>MainCategory</th>\n",
       "      <th>Currency</th>\n",
       "      <th>Deadline</th>\n",
       "      <th>Goal</th>\n",
       "      <th>Launched</th>\n",
       "      <th>Pledged</th>\n",
       "      <th>State</th>\n",
       "      <th>Backers</th>\n",
       "      <th>Country</th>\n",
       "    </tr>\n",
       "  </thead>\n",
       "  <tbody>\n",
       "    <tr>\n",
       "      <th>0</th>\n",
       "      <td>1000002330</td>\n",
       "      <td>the songs of adelaide abullah</td>\n",
       "      <td>Poetry</td>\n",
       "      <td>Publishing</td>\n",
       "      <td>GBP</td>\n",
       "      <td>2015-10-09 11:36:00</td>\n",
       "      <td>1000.00</td>\n",
       "      <td>2015-08-11 12:12:28</td>\n",
       "      <td>0.00</td>\n",
       "      <td>failed</td>\n",
       "      <td>0</td>\n",
       "      <td>GB</td>\n",
       "    </tr>\n",
       "  </tbody>\n",
       "</table>\n",
       "</div>"
      ],
      "text/plain": [
       "           ID                           Name Category MainCategory Currency  \\\n",
       "0  1000002330  the songs of adelaide abullah   Poetry   Publishing      GBP   \n",
       "\n",
       "             Deadline    Goal            Launched  Pledged   State  Backers  \\\n",
       "0 2015-10-09 11:36:00 1000.00 2015-08-11 12:12:28     0.00  failed        0   \n",
       "\n",
       "  Country  \n",
       "0      GB  "
      ]
     },
     "execution_count": 141,
     "metadata": {},
     "output_type": "execute_result"
    }
   ],
   "source": [
    "# Suppression des outliers qui sont hors du percentile sélectionné.\n",
    "df_clean_m = df_clean_m[df_clean_m['Pledged'] <= stats_desc['99%']]\n",
    "\n",
    "# Indique combien d'observations sont dans le Dataframe, après transformation.\n",
    "print(f\"Volume de données restantes dans le Dataframe : {len(df_clean_m)}\")\n",
    "\n",
    "df_clean_m.head(1)"
   ]
  },
  {
   "cell_type": "code",
   "execution_count": 142,
   "metadata": {},
   "outputs": [
    {
     "data": {
      "image/png": "[encoded data removed]",
      "text/plain": [
       "<Figure size 1000x600 with 1 Axes>"
      ]
     },
     "metadata": {},
     "output_type": "display_data"
    }
   ],
   "source": [
    "# Représentation du boxplot après les transformations. \n",
    "data = df_clean_m['Pledged']\n",
    "boxplot_num(data, 'Pledged')"
   ]
  },
  {
   "cell_type": "code",
   "execution_count": 143,
   "metadata": {},
   "outputs": [
    {
     "name": "stderr",
     "output_type": "stream",
     "text": [
      "/Library/Frameworks/Python.framework/Versions/3.11/lib/python3.11/site-packages/pandas/core/arraylike.py:402: RuntimeWarning: divide by zero encountered in log\n",
      "  result = getattr(ufunc, method)(*inputs, **kwargs)\n"
     ]
    },
    {
     "data": {
      "image/png": "[encoded data removed]",
      "text/plain": [
       "<Figure size 1000x600 with 1 Axes>"
      ]
     },
     "metadata": {},
     "output_type": "display_data"
    }
   ],
   "source": [
    "# Représentation du boxplot suivant les transformations (Log de la colonne Pledged)\n",
    "data = np.log(df_clean_m['Pledged'])\n",
    "boxplot_num(data, 'Log(Pledged)')"
   ]
  },
  {
   "cell_type": "markdown",
   "metadata": {},
   "source": [
    "#### **Étape 5.9 : Traiter les valeurs manquantes et abérrantes pour la colonne State**"
   ]
  },
  {
   "cell_type": "code",
   "execution_count": 144,
   "metadata": {},
   "outputs": [
    {
     "name": "stdout",
     "output_type": "stream",
     "text": [
      "Nombre d'observations impactées par le traitement : 0\n",
      "Volume de données restantes dans le Dataframe : 317169\n"
     ]
    },
    {
     "data": {
      "text/html": [
       "<div>\n",
       "<style scoped>\n",
       "    .dataframe tbody tr th:only-of-type {\n",
       "        vertical-align: middle;\n",
       "    }\n",
       "\n",
       "    .dataframe tbody tr th {\n",
       "        vertical-align: top;\n",
       "    }\n",
       "\n",
       "    .dataframe thead th {\n",
       "        text-align: right;\n",
       "    }\n",
       "</style>\n",
       "<table border=\"1\" class=\"dataframe\">\n",
       "  <thead>\n",
       "    <tr style=\"text-align: right;\">\n",
       "      <th></th>\n",
       "      <th>ID</th>\n",
       "      <th>Name</th>\n",
       "      <th>Category</th>\n",
       "      <th>MainCategory</th>\n",
       "      <th>Currency</th>\n",
       "      <th>Deadline</th>\n",
       "      <th>Goal</th>\n",
       "      <th>Launched</th>\n",
       "      <th>Pledged</th>\n",
       "      <th>State</th>\n",
       "      <th>Backers</th>\n",
       "      <th>Country</th>\n",
       "    </tr>\n",
       "  </thead>\n",
       "  <tbody>\n",
       "    <tr>\n",
       "      <th>0</th>\n",
       "      <td>1000002330</td>\n",
       "      <td>the songs of adelaide abullah</td>\n",
       "      <td>Poetry</td>\n",
       "      <td>Publishing</td>\n",
       "      <td>GBP</td>\n",
       "      <td>2015-10-09 11:36:00</td>\n",
       "      <td>1000.00</td>\n",
       "      <td>2015-08-11 12:12:28</td>\n",
       "      <td>0.00</td>\n",
       "      <td>failed</td>\n",
       "      <td>0</td>\n",
       "      <td>GB</td>\n",
       "    </tr>\n",
       "  </tbody>\n",
       "</table>\n",
       "</div>"
      ],
      "text/plain": [
       "           ID                           Name Category MainCategory Currency  \\\n",
       "0  1000002330  the songs of adelaide abullah   Poetry   Publishing      GBP   \n",
       "\n",
       "             Deadline    Goal            Launched  Pledged   State  Backers  \\\n",
       "0 2015-10-09 11:36:00 1000.00 2015-08-11 12:12:28     0.00  failed        0   \n",
       "\n",
       "  Country  \n",
       "0      GB  "
      ]
     },
     "execution_count": 144,
     "metadata": {},
     "output_type": "execute_result"
    }
   ],
   "source": [
    "# Traitement des données manquantes et abérrantes pour la colonne State\n",
    "\n",
    "# Crée une liste de states acceptées, à partir des données dans group_count.\n",
    "list_states = ('failed','successful','canceled','live','undefined','suspended')\n",
    "\n",
    "# Assigne le output de la fonction group_analysis à deux variables qu'on peut utiliser savoir quels index n'ont pas les states permis. \n",
    "group_count, indexes_to_remove = group_analysis(df_clean_m, 'State', 1, list_states)\n",
    "\n",
    "# Indique combien d'observations sont impactées par le traitement.\n",
    "print(f\"Nombre d'observations impactées par le traitement : {len(indexes_to_remove)}\")\n",
    "\n",
    "# Supprime les observations dont la variable State n'est pas dans une catégorie principale admise.\n",
    "df_clean_m = df_clean_m.drop(indexes_to_remove)\n",
    "\n",
    "# Indique combien d'observations sont dans le Dataframe, après transformation.\n",
    "print(f\"Volume de données restantes dans le Dataframe : {len(df_clean_m)}\")\n",
    "\n",
    "df_clean_m.head(1)"
   ]
  },
  {
   "cell_type": "code",
   "execution_count": 145,
   "metadata": {},
   "outputs": [
    {
     "data": {
      "text/plain": [
       "failed        166201\n",
       "successful    110088\n",
       "canceled       31592\n",
       "live            4305\n",
       "undefined       3562\n",
       "suspended       1421\n",
       "Name: State, dtype: int64"
      ]
     },
     "execution_count": 145,
     "metadata": {},
     "output_type": "execute_result"
    }
   ],
   "source": [
    "# Représentation des catégories restantes dans le Dataframe\n",
    "df_clean_m['State'].value_counts()"
   ]
  },
  {
   "cell_type": "code",
   "execution_count": 146,
   "metadata": {},
   "outputs": [],
   "source": [
    "''' \n",
    "NOTE : Étant donné que les différentes classes, autres que succès ou échec, sont peu volumineuses dans la base de données et que nous \n",
    "voulons ultimement fournir des insights qui favorisent le succès des campagnes, il est pertinent de grouper le tout dans une colonne\n",
    "binaire, succès.\n",
    "'''\n",
    "\n",
    "df_clean_m['Success'] = df_clean_m['State'].apply(lambda x: 1 if x == 'successful' else 0)\n",
    "df_clean_m.drop(columns='State', inplace=True)"
   ]
  },
  {
   "cell_type": "markdown",
   "metadata": {},
   "source": [
    "#### **Étape 5.10 : Traiter les valeurs manquantes et abérrantes pour la colonne Backers**"
   ]
  },
  {
   "cell_type": "code",
   "execution_count": 147,
   "metadata": {},
   "outputs": [
    {
     "data": {
      "text/plain": [
       "count   317169.00\n",
       "mean        64.04\n",
       "std        190.14\n",
       "min          0.00\n",
       "5%           0.00\n",
       "10%          0.00\n",
       "15%          0.00\n",
       "20%          1.00\n",
       "25%          2.00\n",
       "50%         12.00\n",
       "75%         53.00\n",
       "80%         70.00\n",
       "85%         97.00\n",
       "90%        146.00\n",
       "95%        269.00\n",
       "99%        850.32\n",
       "max      11281.00\n",
       "Name: Backers, dtype: float64"
      ]
     },
     "execution_count": 147,
     "metadata": {},
     "output_type": "execute_result"
    }
   ],
   "source": [
    "# Traitement des données manquantes et abérrantes pour la colonne Backers.\n",
    "\n",
    "# Présente les statistiques descriptives de la colonne Goal.\n",
    "stats_desc = df_clean_m['Backers'].describe(percentiles=custom_percentiles)\n",
    "stats_desc"
   ]
  },
  {
   "cell_type": "code",
   "execution_count": 148,
   "metadata": {},
   "outputs": [
    {
     "data": {
      "image/png": "[encoded data removed]",
      "text/plain": [
       "<Figure size 1000x600 with 1 Axes>"
      ]
     },
     "metadata": {},
     "output_type": "display_data"
    }
   ],
   "source": [
    "# Représentation du boxplot avant les transformations. \n",
    "data = df_clean_m['Backers']\n",
    "boxplot_num(data, 'Backers')"
   ]
  },
  {
   "cell_type": "code",
   "execution_count": 149,
   "metadata": {},
   "outputs": [
    {
     "name": "stdout",
     "output_type": "stream",
     "text": [
      "Nombre d'éléments à supprimer au percentile 75% : 79464\n",
      "Nombre d'éléments à supprimer au percentile 80% : 64023\n",
      "Nombre d'éléments à supprimer au percentile 85% : 47924\n",
      "Nombre d'éléments à supprimer au percentile 90% : 31871\n",
      "Nombre d'éléments à supprimer au percentile 95% : 15891\n",
      "Nombre d'éléments à supprimer au percentile 99% : 3172\n"
     ]
    }
   ],
   "source": [
    "# Appel de la fonction pour la colonne Backers. \n",
    "nb_rows_to_delete('Backers')"
   ]
  },
  {
   "cell_type": "code",
   "execution_count": 150,
   "metadata": {},
   "outputs": [
    {
     "name": "stdout",
     "output_type": "stream",
     "text": [
      "Volume de données restantes dans le Dataframe : 313997\n"
     ]
    },
    {
     "data": {
      "text/html": [
       "<div>\n",
       "<style scoped>\n",
       "    .dataframe tbody tr th:only-of-type {\n",
       "        vertical-align: middle;\n",
       "    }\n",
       "\n",
       "    .dataframe tbody tr th {\n",
       "        vertical-align: top;\n",
       "    }\n",
       "\n",
       "    .dataframe thead th {\n",
       "        text-align: right;\n",
       "    }\n",
       "</style>\n",
       "<table border=\"1\" class=\"dataframe\">\n",
       "  <thead>\n",
       "    <tr style=\"text-align: right;\">\n",
       "      <th></th>\n",
       "      <th>ID</th>\n",
       "      <th>Name</th>\n",
       "      <th>Category</th>\n",
       "      <th>MainCategory</th>\n",
       "      <th>Currency</th>\n",
       "      <th>Deadline</th>\n",
       "      <th>Goal</th>\n",
       "      <th>Launched</th>\n",
       "      <th>Pledged</th>\n",
       "      <th>Backers</th>\n",
       "      <th>Country</th>\n",
       "      <th>Success</th>\n",
       "    </tr>\n",
       "  </thead>\n",
       "  <tbody>\n",
       "    <tr>\n",
       "      <th>0</th>\n",
       "      <td>1000002330</td>\n",
       "      <td>the songs of adelaide abullah</td>\n",
       "      <td>Poetry</td>\n",
       "      <td>Publishing</td>\n",
       "      <td>GBP</td>\n",
       "      <td>2015-10-09 11:36:00</td>\n",
       "      <td>1000.00</td>\n",
       "      <td>2015-08-11 12:12:28</td>\n",
       "      <td>0.00</td>\n",
       "      <td>0</td>\n",
       "      <td>GB</td>\n",
       "      <td>0</td>\n",
       "    </tr>\n",
       "  </tbody>\n",
       "</table>\n",
       "</div>"
      ],
      "text/plain": [
       "           ID                           Name Category MainCategory Currency  \\\n",
       "0  1000002330  the songs of adelaide abullah   Poetry   Publishing      GBP   \n",
       "\n",
       "             Deadline    Goal            Launched  Pledged  Backers Country  \\\n",
       "0 2015-10-09 11:36:00 1000.00 2015-08-11 12:12:28     0.00        0      GB   \n",
       "\n",
       "   Success  \n",
       "0        0  "
      ]
     },
     "execution_count": 150,
     "metadata": {},
     "output_type": "execute_result"
    }
   ],
   "source": [
    "# Suppression des outliers qui sont hors du percentile sélectionné.\n",
    "df_clean_m = df_clean_m[df_clean_m['Backers'] <= stats_desc['99%']]\n",
    "\n",
    "# Indique combien d'observations sont dans le Dataframe, après transformation.\n",
    "print(f\"Volume de données restantes dans le Dataframe : {len(df_clean_m)}\")\n",
    "\n",
    "df_clean_m.head(1)"
   ]
  },
  {
   "cell_type": "code",
   "execution_count": 151,
   "metadata": {},
   "outputs": [
    {
     "data": {
      "image/png": "[encoded data removed]",
      "text/plain": [
       "<Figure size 1000x600 with 1 Axes>"
      ]
     },
     "metadata": {},
     "output_type": "display_data"
    }
   ],
   "source": [
    "# Représentation du boxplot suivant les transformations. \n",
    "data = df_clean_m['Backers']\n",
    "boxplot_num(data, 'Backers')"
   ]
  },
  {
   "cell_type": "code",
   "execution_count": 152,
   "metadata": {},
   "outputs": [
    {
     "name": "stderr",
     "output_type": "stream",
     "text": [
      "/Library/Frameworks/Python.framework/Versions/3.11/lib/python3.11/site-packages/pandas/core/arraylike.py:402: RuntimeWarning: divide by zero encountered in log\n",
      "  result = getattr(ufunc, method)(*inputs, **kwargs)\n"
     ]
    },
    {
     "data": {
      "image/png": "[encoded data removed]",
      "text/plain": [
       "<Figure size 1000x600 with 1 Axes>"
      ]
     },
     "metadata": {},
     "output_type": "display_data"
    }
   ],
   "source": [
    "# Représentation du boxplot suivant les transformations (Log de la colonne Pledged)\n",
    "data = np.log(df_clean_m['Backers'])\n",
    "boxplot_num(data, 'Log(Backers)')"
   ]
  },
  {
   "cell_type": "markdown",
   "metadata": {},
   "source": [
    "#### **Étape 5.11 : Traiter les valeurs manquantes et abérrantes pour la colonne Country**"
   ]
  },
  {
   "cell_type": "code",
   "execution_count": 153,
   "metadata": {},
   "outputs": [
    {
     "name": "stdout",
     "output_type": "stream",
     "text": [
      "Nombre d'observations impactées par le traitement : 233\n",
      "Volume de données restantes dans le Dataframe : 313764\n"
     ]
    },
    {
     "data": {
      "text/html": [
       "<div>\n",
       "<style scoped>\n",
       "    .dataframe tbody tr th:only-of-type {\n",
       "        vertical-align: middle;\n",
       "    }\n",
       "\n",
       "    .dataframe tbody tr th {\n",
       "        vertical-align: top;\n",
       "    }\n",
       "\n",
       "    .dataframe thead th {\n",
       "        text-align: right;\n",
       "    }\n",
       "</style>\n",
       "<table border=\"1\" class=\"dataframe\">\n",
       "  <thead>\n",
       "    <tr style=\"text-align: right;\">\n",
       "      <th></th>\n",
       "      <th>ID</th>\n",
       "      <th>Name</th>\n",
       "      <th>Category</th>\n",
       "      <th>MainCategory</th>\n",
       "      <th>Currency</th>\n",
       "      <th>Deadline</th>\n",
       "      <th>Goal</th>\n",
       "      <th>Launched</th>\n",
       "      <th>Pledged</th>\n",
       "      <th>Backers</th>\n",
       "      <th>Country</th>\n",
       "      <th>Success</th>\n",
       "    </tr>\n",
       "  </thead>\n",
       "  <tbody>\n",
       "    <tr>\n",
       "      <th>0</th>\n",
       "      <td>1000002330</td>\n",
       "      <td>the songs of adelaide abullah</td>\n",
       "      <td>Poetry</td>\n",
       "      <td>Publishing</td>\n",
       "      <td>GBP</td>\n",
       "      <td>2015-10-09 11:36:00</td>\n",
       "      <td>1000.00</td>\n",
       "      <td>2015-08-11 12:12:28</td>\n",
       "      <td>0.00</td>\n",
       "      <td>0</td>\n",
       "      <td>GB</td>\n",
       "      <td>0</td>\n",
       "    </tr>\n",
       "  </tbody>\n",
       "</table>\n",
       "</div>"
      ],
      "text/plain": [
       "           ID                           Name Category MainCategory Currency  \\\n",
       "0  1000002330  the songs of adelaide abullah   Poetry   Publishing      GBP   \n",
       "\n",
       "             Deadline    Goal            Launched  Pledged  Backers Country  \\\n",
       "0 2015-10-09 11:36:00 1000.00 2015-08-11 12:12:28     0.00        0      GB   \n",
       "\n",
       "   Success  \n",
       "0        0  "
      ]
     },
     "execution_count": 153,
     "metadata": {},
     "output_type": "execute_result"
    }
   ],
   "source": [
    "# Traitement des données manquantes et abérrantes pour la colonne Country.\n",
    "\n",
    "# Crée une liste de pays acceptées, à partir des données dans group_count.\n",
    "list_countries = ('US','GB','CA','AU','DE','NL','FR','IT','ES','SE','NZ','DK','IE','NO','CH','BE','AT','MX','SG','HK')\n",
    "\n",
    "# Assigne le output de la fonction group_analysis à deux variables qu'on peut utiliser savoir quels index n'ont pas les states permis. \n",
    "group_count, indexes_to_remove = group_analysis(df_clean_m, 'Country', 1, list_countries)\n",
    "\n",
    "# Indique combien d'observations sont impactées par le traitement.\n",
    "print(f\"Nombre d'observations impactées par le traitement : {len(indexes_to_remove)}\")\n",
    "\n",
    "# Supprime les observations dont la variable State n'est pas dans une catégorie principale admise.\n",
    "df_clean_m = df_clean_m.drop(indexes_to_remove)\n",
    "\n",
    "# Indique combien d'observations sont dans le Dataframe, après transformation.\n",
    "print(f\"Volume de données restantes dans le Dataframe : {len(df_clean_m)}\")\n",
    "\n",
    "df_clean_m.head(1)"
   ]
  },
  {
   "cell_type": "markdown",
   "metadata": {},
   "source": [
    "#### **Étape 5.12 : Enregistrement de la BD nettoyée**"
   ]
  },
  {
   "cell_type": "code",
   "execution_count": 154,
   "metadata": {},
   "outputs": [],
   "source": [
    "# Appel de la fonction pour créer un file_path\n",
    "file_path = get_file_path(\"Datasets\", \"ks_clean_data.csv\")\n",
    "\n",
    "# Enregistrement du dataset, pour reprendre dans 2_apprentissage_machine.ipynb.\n",
    "df_clean_m.to_csv(file_path, index=False)"
   ]
  },
  {
   "cell_type": "markdown",
   "metadata": {},
   "source": [
    "# **Étape 6 : Ajouter des sources de données externes pour enrichir les insights**\n",
    "\n",
    "À ce stade, les données brutes ont été profilées, normalisées et nettoyées, nous pouvons donc essayer de trouver des données additionnelles qui auraient une incidence sur le taux de réussite des campagnes Kickstarter. Cependant, pour conserver la simplicité du projet et comme il s'agit d'un mandat fictif, nous ne le ferons pas. Il aurait été intéressant d'intégrer des données macro-économiques par exemple, car il est juste de croire qu'en période de santé économique, les individus sont plus prônes de supporter des campagnes sur des plateformes comme Kickstarter. "
   ]
  }
 ],
 "metadata": {
  "kernelspec": {
   "display_name": "Python 3",
   "language": "python",
   "name": "python3"
  },
  "language_info": {
   "codemirror_mode": {
    "name": "ipython",
    "version": 3
   },
   "file_extension": ".py",
   "mimetype": "text/x-python",
   "name": "python",
   "nbconvert_exporter": "python",
   "pygments_lexer": "ipython3",
   "version": "3.11.2"
  },
  "orig_nbformat": 4
 },
 "nbformat": 4,
 "nbformat_minor": 2
}
